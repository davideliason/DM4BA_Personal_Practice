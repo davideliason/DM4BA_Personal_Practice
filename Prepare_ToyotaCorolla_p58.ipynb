{
 "cells": [
  {
   "cell_type": "code",
   "execution_count": 25,
   "metadata": {},
   "outputs": [],
   "source": [
    "# import required packages\n",
    "%matplotlib inline\n",
    "from pathlib import Path\n",
    "import numpy as np\n",
    "import pandas as pd\n",
    "from sklearn.model_selection import train_test_split\n",
    "from sklearn.metrics import r2_score\n",
    "from sklearn.linear_model import LinearRegression\n",
    "\n",
    "import matplotlib.pylab as plt"
   ]
  },
  {
   "cell_type": "code",
   "execution_count": 26,
   "metadata": {},
   "outputs": [],
   "source": [
    "cars_df = pd.read_csv('ToyotaCorolla.csv')"
   ]
  },
  {
   "cell_type": "code",
   "execution_count": 27,
   "metadata": {},
   "outputs": [
    {
     "data": {
      "text/plain": [
       "(1436, 39)"
      ]
     },
     "execution_count": 27,
     "metadata": {},
     "output_type": "execute_result"
    }
   ],
   "source": [
    "cars_df.shape"
   ]
  },
  {
   "cell_type": "code",
   "execution_count": 28,
   "metadata": {},
   "outputs": [
    {
     "data": {
      "text/html": [
       "<div>\n",
       "<style scoped>\n",
       "    .dataframe tbody tr th:only-of-type {\n",
       "        vertical-align: middle;\n",
       "    }\n",
       "\n",
       "    .dataframe tbody tr th {\n",
       "        vertical-align: top;\n",
       "    }\n",
       "\n",
       "    .dataframe thead th {\n",
       "        text-align: right;\n",
       "    }\n",
       "</style>\n",
       "<table border=\"1\" class=\"dataframe\">\n",
       "  <thead>\n",
       "    <tr style=\"text-align: right;\">\n",
       "      <th></th>\n",
       "      <th>Id</th>\n",
       "      <th>Model</th>\n",
       "      <th>Price</th>\n",
       "      <th>Age_08_04</th>\n",
       "      <th>Mfg_Month</th>\n",
       "      <th>Mfg_Year</th>\n",
       "      <th>KM</th>\n",
       "      <th>Fuel_Type</th>\n",
       "      <th>HP</th>\n",
       "      <th>Met_Color</th>\n",
       "      <th>...</th>\n",
       "      <th>Powered_Windows</th>\n",
       "      <th>Power_Steering</th>\n",
       "      <th>Radio</th>\n",
       "      <th>Mistlamps</th>\n",
       "      <th>Sport_Model</th>\n",
       "      <th>Backseat_Divider</th>\n",
       "      <th>Metallic_Rim</th>\n",
       "      <th>Radio_cassette</th>\n",
       "      <th>Parking_Assistant</th>\n",
       "      <th>Tow_Bar</th>\n",
       "    </tr>\n",
       "  </thead>\n",
       "  <tbody>\n",
       "    <tr>\n",
       "      <th>0</th>\n",
       "      <td>1</td>\n",
       "      <td>TOYOTA Corolla 2.0 D4D HATCHB TERRA 2/3-Doors</td>\n",
       "      <td>13500</td>\n",
       "      <td>23</td>\n",
       "      <td>10</td>\n",
       "      <td>2002</td>\n",
       "      <td>46986</td>\n",
       "      <td>Diesel</td>\n",
       "      <td>90</td>\n",
       "      <td>1</td>\n",
       "      <td>...</td>\n",
       "      <td>1</td>\n",
       "      <td>1</td>\n",
       "      <td>0</td>\n",
       "      <td>0</td>\n",
       "      <td>0</td>\n",
       "      <td>1</td>\n",
       "      <td>0</td>\n",
       "      <td>0</td>\n",
       "      <td>0</td>\n",
       "      <td>0</td>\n",
       "    </tr>\n",
       "    <tr>\n",
       "      <th>1</th>\n",
       "      <td>2</td>\n",
       "      <td>TOYOTA Corolla 2.0 D4D HATCHB TERRA 2/3-Doors</td>\n",
       "      <td>13750</td>\n",
       "      <td>23</td>\n",
       "      <td>10</td>\n",
       "      <td>2002</td>\n",
       "      <td>72937</td>\n",
       "      <td>Diesel</td>\n",
       "      <td>90</td>\n",
       "      <td>1</td>\n",
       "      <td>...</td>\n",
       "      <td>0</td>\n",
       "      <td>1</td>\n",
       "      <td>0</td>\n",
       "      <td>0</td>\n",
       "      <td>0</td>\n",
       "      <td>1</td>\n",
       "      <td>0</td>\n",
       "      <td>0</td>\n",
       "      <td>0</td>\n",
       "      <td>0</td>\n",
       "    </tr>\n",
       "    <tr>\n",
       "      <th>2</th>\n",
       "      <td>3</td>\n",
       "      <td>TOYOTA Corolla 2.0 D4D HATCHB TERRA 2/3-Doors</td>\n",
       "      <td>13950</td>\n",
       "      <td>24</td>\n",
       "      <td>9</td>\n",
       "      <td>2002</td>\n",
       "      <td>41711</td>\n",
       "      <td>Diesel</td>\n",
       "      <td>90</td>\n",
       "      <td>1</td>\n",
       "      <td>...</td>\n",
       "      <td>0</td>\n",
       "      <td>1</td>\n",
       "      <td>0</td>\n",
       "      <td>0</td>\n",
       "      <td>0</td>\n",
       "      <td>1</td>\n",
       "      <td>0</td>\n",
       "      <td>0</td>\n",
       "      <td>0</td>\n",
       "      <td>0</td>\n",
       "    </tr>\n",
       "    <tr>\n",
       "      <th>3</th>\n",
       "      <td>4</td>\n",
       "      <td>TOYOTA Corolla 2.0 D4D HATCHB TERRA 2/3-Doors</td>\n",
       "      <td>14950</td>\n",
       "      <td>26</td>\n",
       "      <td>7</td>\n",
       "      <td>2002</td>\n",
       "      <td>48000</td>\n",
       "      <td>Diesel</td>\n",
       "      <td>90</td>\n",
       "      <td>0</td>\n",
       "      <td>...</td>\n",
       "      <td>0</td>\n",
       "      <td>1</td>\n",
       "      <td>0</td>\n",
       "      <td>0</td>\n",
       "      <td>0</td>\n",
       "      <td>1</td>\n",
       "      <td>0</td>\n",
       "      <td>0</td>\n",
       "      <td>0</td>\n",
       "      <td>0</td>\n",
       "    </tr>\n",
       "    <tr>\n",
       "      <th>4</th>\n",
       "      <td>5</td>\n",
       "      <td>TOYOTA Corolla 2.0 D4D HATCHB SOL 2/3-Doors</td>\n",
       "      <td>13750</td>\n",
       "      <td>30</td>\n",
       "      <td>3</td>\n",
       "      <td>2002</td>\n",
       "      <td>38500</td>\n",
       "      <td>Diesel</td>\n",
       "      <td>90</td>\n",
       "      <td>0</td>\n",
       "      <td>...</td>\n",
       "      <td>1</td>\n",
       "      <td>1</td>\n",
       "      <td>0</td>\n",
       "      <td>1</td>\n",
       "      <td>0</td>\n",
       "      <td>1</td>\n",
       "      <td>0</td>\n",
       "      <td>0</td>\n",
       "      <td>0</td>\n",
       "      <td>0</td>\n",
       "    </tr>\n",
       "  </tbody>\n",
       "</table>\n",
       "<p>5 rows × 39 columns</p>\n",
       "</div>"
      ],
      "text/plain": [
       "   Id                                          Model  Price  Age_08_04  \\\n",
       "0   1  TOYOTA Corolla 2.0 D4D HATCHB TERRA 2/3-Doors  13500         23   \n",
       "1   2  TOYOTA Corolla 2.0 D4D HATCHB TERRA 2/3-Doors  13750         23   \n",
       "2   3  TOYOTA Corolla 2.0 D4D HATCHB TERRA 2/3-Doors  13950         24   \n",
       "3   4  TOYOTA Corolla 2.0 D4D HATCHB TERRA 2/3-Doors  14950         26   \n",
       "4   5    TOYOTA Corolla 2.0 D4D HATCHB SOL 2/3-Doors  13750         30   \n",
       "\n",
       "   Mfg_Month  Mfg_Year     KM Fuel_Type  HP  Met_Color  ... Powered_Windows  \\\n",
       "0         10      2002  46986    Diesel  90          1  ...               1   \n",
       "1         10      2002  72937    Diesel  90          1  ...               0   \n",
       "2          9      2002  41711    Diesel  90          1  ...               0   \n",
       "3          7      2002  48000    Diesel  90          0  ...               0   \n",
       "4          3      2002  38500    Diesel  90          0  ...               1   \n",
       "\n",
       "   Power_Steering  Radio  Mistlamps  Sport_Model  Backseat_Divider  \\\n",
       "0               1      0          0            0                 1   \n",
       "1               1      0          0            0                 1   \n",
       "2               1      0          0            0                 1   \n",
       "3               1      0          0            0                 1   \n",
       "4               1      0          1            0                 1   \n",
       "\n",
       "   Metallic_Rim  Radio_cassette  Parking_Assistant  Tow_Bar  \n",
       "0             0               0                  0        0  \n",
       "1             0               0                  0        0  \n",
       "2             0               0                  0        0  \n",
       "3             0               0                  0        0  \n",
       "4             0               0                  0        0  \n",
       "\n",
       "[5 rows x 39 columns]"
      ]
     },
     "execution_count": 28,
     "metadata": {},
     "output_type": "execute_result"
    }
   ],
   "source": [
    "cars_df.head(5)"
   ]
  },
  {
   "cell_type": "code",
   "execution_count": 30,
   "metadata": {},
   "outputs": [],
   "source": [
    "cars_df['Fuel_Type'] = cars_df['Fuel_Type'].astype('category')\n",
    "# housing_df.REMODEL = housing_df.REMODEL.astype('category')\n"
   ]
  },
  {
   "cell_type": "code",
   "execution_count": 31,
   "metadata": {},
   "outputs": [
    {
     "data": {
      "text/plain": [
       "Id                      int64\n",
       "Model                  object\n",
       "Price                   int64\n",
       "Age_08_04               int64\n",
       "Mfg_Month               int64\n",
       "Mfg_Year                int64\n",
       "KM                      int64\n",
       "Fuel_Type            category\n",
       "HP                      int64\n",
       "Met_Color               int64\n",
       "Color                  object\n",
       "Automatic               int64\n",
       "CC                      int64\n",
       "Doors                   int64\n",
       "Cylinders               int64\n",
       "Gears                   int64\n",
       "Quarterly_Tax           int64\n",
       "Weight                  int64\n",
       "Mfr_Guarantee           int64\n",
       "BOVAG_Guarantee         int64\n",
       "Guarantee_Period        int64\n",
       "ABS                     int64\n",
       "Airbag_1                int64\n",
       "Airbag_2                int64\n",
       "Airco                   int64\n",
       "Automatic_airco         int64\n",
       "Boardcomputer           int64\n",
       "CD_Player               int64\n",
       "Central_Lock            int64\n",
       "Powered_Windows         int64\n",
       "Power_Steering          int64\n",
       "Radio                   int64\n",
       "Mistlamps               int64\n",
       "Sport_Model             int64\n",
       "Backseat_Divider        int64\n",
       "Metallic_Rim            int64\n",
       "Radio_cassette          int64\n",
       "Parking_Assistant       int64\n",
       "Tow_Bar                 int64\n",
       "dtype: object"
      ]
     },
     "execution_count": 31,
     "metadata": {},
     "output_type": "execute_result"
    }
   ],
   "source": [
    "cars_df.dtypes"
   ]
  },
  {
   "cell_type": "code",
   "execution_count": 32,
   "metadata": {},
   "outputs": [],
   "source": [
    "cars_df['Color'] = cars_df['Color'].astype('category')"
   ]
  },
  {
   "cell_type": "code",
   "execution_count": 33,
   "metadata": {},
   "outputs": [
    {
     "data": {
      "text/plain": [
       "Id                      int64\n",
       "Model                  object\n",
       "Price                   int64\n",
       "Age_08_04               int64\n",
       "Mfg_Month               int64\n",
       "Mfg_Year                int64\n",
       "KM                      int64\n",
       "Fuel_Type            category\n",
       "HP                      int64\n",
       "Met_Color               int64\n",
       "Color                category\n",
       "Automatic               int64\n",
       "CC                      int64\n",
       "Doors                   int64\n",
       "Cylinders               int64\n",
       "Gears                   int64\n",
       "Quarterly_Tax           int64\n",
       "Weight                  int64\n",
       "Mfr_Guarantee           int64\n",
       "BOVAG_Guarantee         int64\n",
       "Guarantee_Period        int64\n",
       "ABS                     int64\n",
       "Airbag_1                int64\n",
       "Airbag_2                int64\n",
       "Airco                   int64\n",
       "Automatic_airco         int64\n",
       "Boardcomputer           int64\n",
       "CD_Player               int64\n",
       "Central_Lock            int64\n",
       "Powered_Windows         int64\n",
       "Power_Steering          int64\n",
       "Radio                   int64\n",
       "Mistlamps               int64\n",
       "Sport_Model             int64\n",
       "Backseat_Divider        int64\n",
       "Metallic_Rim            int64\n",
       "Radio_cassette          int64\n",
       "Parking_Assistant       int64\n",
       "Tow_Bar                 int64\n",
       "dtype: object"
      ]
     },
     "execution_count": 33,
     "metadata": {},
     "output_type": "execute_result"
    }
   ],
   "source": [
    "cars_df.dtypes"
   ]
  },
  {
   "cell_type": "code",
   "execution_count": 34,
   "metadata": {},
   "outputs": [
    {
     "name": "stdout",
     "output_type": "stream",
     "text": [
      "Index(['CNG', 'Diesel', 'Petrol'], dtype='object')\n"
     ]
    }
   ],
   "source": [
    "print(cars_df['Fuel_Type'].cat.categories)\n",
    "# print(housing_df.REMODEL.cat.categories)\n"
   ]
  },
  {
   "cell_type": "code",
   "execution_count": 35,
   "metadata": {},
   "outputs": [
    {
     "name": "stdout",
     "output_type": "stream",
     "text": [
      "Index(['Beige', 'Black', 'Blue', 'Green', 'Grey', 'Red', 'Silver', 'Violet',\n",
      "       'White', 'Yellow'],\n",
      "      dtype='object')\n"
     ]
    }
   ],
   "source": [
    "print(cars_df['Color'].cat.categories)"
   ]
  },
  {
   "cell_type": "code",
   "execution_count": 36,
   "metadata": {},
   "outputs": [],
   "source": [
    "# housing_df = pd.get_dummies(housing_df, prefix_sep=\"_\", drop_first=True)\n",
    "cars_df = pd.get_dummies(cars_df, prefix_sep=\"_\", drop_first=True)"
   ]
  },
  {
   "cell_type": "code",
   "execution_count": 37,
   "metadata": {},
   "outputs": [
    {
     "data": {
      "text/html": [
       "<div>\n",
       "<style scoped>\n",
       "    .dataframe tbody tr th:only-of-type {\n",
       "        vertical-align: middle;\n",
       "    }\n",
       "\n",
       "    .dataframe tbody tr th {\n",
       "        vertical-align: top;\n",
       "    }\n",
       "\n",
       "    .dataframe thead th {\n",
       "        text-align: right;\n",
       "    }\n",
       "</style>\n",
       "<table border=\"1\" class=\"dataframe\">\n",
       "  <thead>\n",
       "    <tr style=\"text-align: right;\">\n",
       "      <th></th>\n",
       "      <th>Id</th>\n",
       "      <th>Price</th>\n",
       "      <th>Age_08_04</th>\n",
       "      <th>Mfg_Month</th>\n",
       "      <th>Mfg_Year</th>\n",
       "      <th>KM</th>\n",
       "      <th>HP</th>\n",
       "      <th>Met_Color</th>\n",
       "      <th>Automatic</th>\n",
       "      <th>CC</th>\n",
       "      <th>...</th>\n",
       "      <th>Fuel_Type_Petrol</th>\n",
       "      <th>Color_Black</th>\n",
       "      <th>Color_Blue</th>\n",
       "      <th>Color_Green</th>\n",
       "      <th>Color_Grey</th>\n",
       "      <th>Color_Red</th>\n",
       "      <th>Color_Silver</th>\n",
       "      <th>Color_Violet</th>\n",
       "      <th>Color_White</th>\n",
       "      <th>Color_Yellow</th>\n",
       "    </tr>\n",
       "  </thead>\n",
       "  <tbody>\n",
       "    <tr>\n",
       "      <th>0</th>\n",
       "      <td>1</td>\n",
       "      <td>13500</td>\n",
       "      <td>23</td>\n",
       "      <td>10</td>\n",
       "      <td>2002</td>\n",
       "      <td>46986</td>\n",
       "      <td>90</td>\n",
       "      <td>1</td>\n",
       "      <td>0</td>\n",
       "      <td>2000</td>\n",
       "      <td>...</td>\n",
       "      <td>0</td>\n",
       "      <td>0</td>\n",
       "      <td>1</td>\n",
       "      <td>0</td>\n",
       "      <td>0</td>\n",
       "      <td>0</td>\n",
       "      <td>0</td>\n",
       "      <td>0</td>\n",
       "      <td>0</td>\n",
       "      <td>0</td>\n",
       "    </tr>\n",
       "    <tr>\n",
       "      <th>1</th>\n",
       "      <td>2</td>\n",
       "      <td>13750</td>\n",
       "      <td>23</td>\n",
       "      <td>10</td>\n",
       "      <td>2002</td>\n",
       "      <td>72937</td>\n",
       "      <td>90</td>\n",
       "      <td>1</td>\n",
       "      <td>0</td>\n",
       "      <td>2000</td>\n",
       "      <td>...</td>\n",
       "      <td>0</td>\n",
       "      <td>0</td>\n",
       "      <td>0</td>\n",
       "      <td>0</td>\n",
       "      <td>0</td>\n",
       "      <td>0</td>\n",
       "      <td>1</td>\n",
       "      <td>0</td>\n",
       "      <td>0</td>\n",
       "      <td>0</td>\n",
       "    </tr>\n",
       "  </tbody>\n",
       "</table>\n",
       "<p>2 rows × 365 columns</p>\n",
       "</div>"
      ],
      "text/plain": [
       "   Id  Price  Age_08_04  Mfg_Month  Mfg_Year     KM  HP  Met_Color  Automatic  \\\n",
       "0   1  13500         23         10      2002  46986  90          1          0   \n",
       "1   2  13750         23         10      2002  72937  90          1          0   \n",
       "\n",
       "     CC  ...  Fuel_Type_Petrol  Color_Black  Color_Blue  Color_Green  \\\n",
       "0  2000  ...                 0            0           1            0   \n",
       "1  2000  ...                 0            0           0            0   \n",
       "\n",
       "   Color_Grey  Color_Red  Color_Silver  Color_Violet  Color_White  \\\n",
       "0           0          0             0             0            0   \n",
       "1           0          0             1             0            0   \n",
       "\n",
       "   Color_Yellow  \n",
       "0             0  \n",
       "1             0  \n",
       "\n",
       "[2 rows x 365 columns]"
      ]
     },
     "execution_count": 37,
     "metadata": {},
     "output_type": "execute_result"
    }
   ],
   "source": [
    "cars_df.head(2)"
   ]
  },
  {
   "cell_type": "code",
   "execution_count": 22,
   "metadata": {},
   "outputs": [
    {
     "data": {
      "text/plain": [
       "Index(['Id', 'Price', 'Age_08_04', 'Mfg_Month', 'Mfg_Year', 'KM', 'HP',\n",
       "       'Met_Color', 'Automatic', 'CC',\n",
       "       ...\n",
       "       'Fuel_Type_Petrol', 'Color_Black', 'Color_Blue', 'Color_Green',\n",
       "       'Color_Grey', 'Color_Red', 'Color_Silver', 'Color_Violet',\n",
       "       'Color_White', 'Color_Yellow'],\n",
       "      dtype='object', length=365)"
      ]
     },
     "execution_count": 22,
     "metadata": {},
     "output_type": "execute_result"
    }
   ],
   "source": [
    "cars_df.columns"
   ]
  },
  {
   "cell_type": "code",
   "execution_count": 23,
   "metadata": {},
   "outputs": [
    {
     "data": {
      "text/plain": [
       "Id                                                                   int64\n",
       "Price                                                                int64\n",
       "Age_08_04                                                            int64\n",
       "Mfg_Month                                                            int64\n",
       "Mfg_Year                                                             int64\n",
       "KM                                                                   int64\n",
       "HP                                                                   int64\n",
       "Met_Color                                                            int64\n",
       "Automatic                                                            int64\n",
       "CC                                                                   int64\n",
       "Doors                                                                int64\n",
       "Cylinders                                                            int64\n",
       "Gears                                                                int64\n",
       "Quarterly_Tax                                                        int64\n",
       "Weight                                                               int64\n",
       "Mfr_Guarantee                                                        int64\n",
       "BOVAG_Guarantee                                                      int64\n",
       "Guarantee_Period                                                     int64\n",
       "ABS                                                                  int64\n",
       "Airbag_1                                                             int64\n",
       "Airbag_2                                                             int64\n",
       "Airco                                                                int64\n",
       "Automatic_airco                                                      int64\n",
       "Boardcomputer                                                        int64\n",
       "CD_Player                                                            int64\n",
       "Central_Lock                                                         int64\n",
       "Powered_Windows                                                      int64\n",
       "Power_Steering                                                       int64\n",
       "Radio                                                                int64\n",
       "Mistlamps                                                            int64\n",
       "                                                                     ...  \n",
       "Model_TOYOTA Corolla Hatchback 1.6 Terra Comfort 2/3-Doors           uint8\n",
       "Model_TOYOTA Corolla LIFTBACK 1.3i Linea Luna Liftback 4/5-Doors     uint8\n",
       "Model_TOYOTA Corolla LIFTBACK 1.3i Linea Terra Liftback 4/5-Doors    uint8\n",
       "Model_TOYOTA Corolla LIFTBACK 1.4 16V VVTI TERRA 4/5-Doors           uint8\n",
       "Model_TOYOTA Corolla LIFTBACK 1.4 VVT-i LINEA TERRA 4/5-Doors        uint8\n",
       "Model_TOYOTA Corolla LIFTBACK 1.6 Linea Luna Liftback 4/5-Doors      uint8\n",
       "Model_TOYOTA Corolla LIFTBACK 1.6 Linea Sol 4/5-Doors                uint8\n",
       "Model_TOYOTA Corolla LIFTBACK 1.6 Linea Terra Liftback 4/5-Doors     uint8\n",
       "Model_TOYOTA Corolla LIFTBACK 1.6 Linea terra 4/5-Doors              uint8\n",
       "Model_TOYOTA Corolla LIFTBACK 1.6-16v Linea Luna 2/3-Doors           uint8\n",
       "Model_TOYOTA Corolla LIFTBACK 1.6-16v Linea Luna 4/5-Doors           uint8\n",
       "Model_TOYOTA Corolla LIFTBACK 1.9 D Linea Terra 4/5-Doors            uint8\n",
       "Model_TOYOTA Corolla Liftback 1.6 VVTI 4/5-Doors                     uint8\n",
       "Model_TOYOTA Corolla Linea Luna 1.6i 16V 2/3-Doors                   uint8\n",
       "Model_TOYOTA Corolla Luna 5drs D4D116 PK 4/5-Doors                   uint8\n",
       "Model_TOYOTA Corolla Sw 20D Linea Terra Stationwagen                 uint8\n",
       "Model_TOYOTA Corolla VERSO 2.0 D4D LINEA SOL MPV                     uint8\n",
       "Model_TOYOTA Corolla VERSO 2.0 D4D SOL (7) BNS MPV                   uint8\n",
       "Model_TOYOTA Corolla VERSO 2.0 D4D SOL (7) MPV                       uint8\n",
       "Fuel_Type_Diesel                                                     uint8\n",
       "Fuel_Type_Petrol                                                     uint8\n",
       "Color_Black                                                          uint8\n",
       "Color_Blue                                                           uint8\n",
       "Color_Green                                                          uint8\n",
       "Color_Grey                                                           uint8\n",
       "Color_Red                                                            uint8\n",
       "Color_Silver                                                         uint8\n",
       "Color_Violet                                                         uint8\n",
       "Color_White                                                          uint8\n",
       "Color_Yellow                                                         uint8\n",
       "Length: 365, dtype: object"
      ]
     },
     "execution_count": 23,
     "metadata": {},
     "output_type": "execute_result"
    }
   ],
   "source": [
    "cars_df.dtypes"
   ]
  },
  {
   "cell_type": "code",
   "execution_count": null,
   "metadata": {},
   "outputs": [],
   "source": []
  }
 ],
 "metadata": {
  "kernelspec": {
   "display_name": "Python 3",
   "language": "python",
   "name": "python3"
  },
  "language_info": {
   "codemirror_mode": {
    "name": "ipython",
    "version": 3
   },
   "file_extension": ".py",
   "mimetype": "text/x-python",
   "name": "python",
   "nbconvert_exporter": "python",
   "pygments_lexer": "ipython3",
   "version": "3.7.3"
  }
 },
 "nbformat": 4,
 "nbformat_minor": 2
}
