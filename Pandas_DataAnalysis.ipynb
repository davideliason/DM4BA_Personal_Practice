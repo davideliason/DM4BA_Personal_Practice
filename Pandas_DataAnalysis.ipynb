{
 "cells": [
  {
   "cell_type": "markdown",
   "metadata": {},
   "source": [
    "# [Overview](https://github.com/summerela/python_data_analysis/blob/master/pandas_basics/notebooks/Data%20Analysis%20Overview.ipynb)"
   ]
  },
  {
   "cell_type": "markdown",
   "metadata": {},
   "source": [
    "## First, Locate data: Kaggle, Scikit Learn Built in Datasets, UCI ML Repository\n",
    "    "
   ]
  },
  {
   "cell_type": "markdown",
   "metadata": {},
   "source": [
    "[Sklearn](https://scikit-learn.org/stable/modules/classes.html#module-sklearn.datasets)"
   ]
  },
  {
   "cell_type": "markdown",
   "metadata": {},
   "source": [
    "[Getting Started](https://scikit-learn.org/stable/getting_started.html)\n",
    "\n",
    "[ Markdown cheatsheet]( https://medium.com/ibm-data-science-experience/markdown-for-jupyter-notebooks-cheatsheet-386c05aeebed )\n"
   ]
  },
  {
   "cell_type": "code",
   "execution_count": 6,
   "metadata": {},
   "outputs": [],
   "source": [
    "# scikit-learn is an open-source ML library for un/supervised learning, many tools for model fitting, \n",
    "# data pre-processing, model selection, model evaluation ( train_test_split, cross_validate)\n",
    "# you fit the model to data using fit method.\n",
    "# ex: from sklearn.ensemble import RandomForestClassifier\n",
    "#    clf = RandomForestClassifier(random_state=0)\n",
    "#    (set x and y) // both are [] // x = samples, y = target values\n",
    "#    clf.fit(X, y)\n",
    "# USE the model: clf.predict([x,y])"
   ]
  },
  {
   "cell_type": "markdown",
   "metadata": {},
   "source": [
    "### Types of Learning\n",
    "- Supervised\n",
    "    - classification \n",
    "    - regression ( desired output is >1 continous variables)\n",
    "- Unsupervised\n",
    "    - clustering (groups of similar examples within the data)\n",
    "    - density estimation (distribution of data)"
   ]
  },
  {
   "cell_type": "markdown",
   "metadata": {},
   "source": [
    "### [Scikit-learn has standard datasets](https://scikit-learn.org/stable/tutorial/basic/tutorial.html#machine-learning-the-problem-setting)\n",
    "- iris and digits for classification\n",
    "- boston hhouse prices for regression\n",
    "> $ python\n",
    "> from sklearn import datasets\n",
    "> iris = datasets.load_iris()\n",
    "> digits = datasets.load_digits()"
   ]
  },
  {
   "cell_type": "markdown",
   "metadata": {},
   "source": [
    "### Working with dataset\n",
    "- Load a dataset\n",
    "- fit an **estimator** on the data so you can **predict** unseen samples\n",
    "- an example of an estimator is svm (support vector classification) which has two arguments\n",
    "    - the estimator is first fitted to the model (it has to learn from the model, by passing training set to fit method)\n",
    "    - then we can predict using that trained model (predict method)\n",
    "\n"
   ]
  },
  {
   "cell_type": "markdown",
   "metadata": {},
   "source": [
    "[Kaggle](https://www.kaggle.com/c/titanic)\n",
    "- given 2 datasets: train.csv and test.csv\n",
    "    - train.csv shows whether passenger survived: \"ground truth\"\n",
    "    - test.csv doesn't include this ground truth info\n"
   ]
  },
  {
   "cell_type": "markdown",
   "metadata": {},
   "source": [
    "### [UCI Learning Repository](https://archive.ics.uci.edu/ml/index.php)\n",
    "- 488 data sets, searchable\n",
    "- ex: adult.data, adult.names, adult.test\n",
    "- https://archive.ics.uci.edu/ml/machine-learning-databases/adult/adult.data"
   ]
  },
  {
   "cell_type": "markdown",
   "metadata": {},
   "source": [
    "## Second,  [Data Munging: Prep the data](https://github.com/summerela/python_data_analysis/blob/master/pandas_basics/notebooks/Data%20Analysis%20Overview.ipynb)"
   ]
  },
  {
   "cell_type": "markdown",
   "metadata": {},
   "source": [
    "80% of DA/Dta scientist time is spent on making data usable:\n",
    "    \n",
    "- Fixing formatting errors and misspelled words\n",
    "- Restructuring and removing redundancies\n",
    "- Flattening and grouping data\n",
    "- Fixing errors\n",
    "- Locating misssing entries\n",
    "- Normalization\n",
    "- Binning"
   ]
  },
  {
   "cell_type": "markdown",
   "metadata": {},
   "source": [
    "## Third, Exploratory Data Analysis (EDA)\n",
    "- view summary statistics such as mean, quantiles, variance, standard deviation\n",
    "- Determine the type of distribution (normal, bimodal, skwed)\n",
    "- Examine data types (numerical, continuous, caetgorical)\n",
    "- Deal with missing values\n",
    "- Determine potential relationships between your variables\n",
    "- Identify and isolate outliers"
   ]
  },
  {
   "cell_type": "markdown",
   "metadata": {},
   "source": [
    "## Select a Statistical Model\n",
    "- To examine the relationship between continuous variables, **linear regression**\n",
    "- To examine the relationship between binary/discrete variables (cat/dog, yes/no), **logistic regression**"
   ]
  },
  {
   "cell_type": "markdown",
   "metadata": {},
   "source": [
    "## Check model assumptions\n",
    "Each statistical model you choose has mathmatical and logical requirements that we must check exist before we can apply our model. For example, linear regression assumes the that the relationship between independent and dependent variables is linear. We can check this by:\n",
    "\n",
    "- Visualizing our distributions\n",
    "- Check for indepence of variables\n",
    "- Plot relationships, such as in a scatterplot\n",
    "- Each model has it's own assumptions, and you will need to learn the methods for checking those assumptions before continuing with your model of choice."
   ]
  },
  {
   "cell_type": "markdown",
   "metadata": {},
   "source": [
    "## Build the model"
   ]
  },
  {
   "cell_type": "markdown",
   "metadata": {},
   "source": [
    "## Evaluate the model using its particular metrics\n",
    "- Variance\n",
    "- Confidence intervals\n",
    "- Mean Squared Error\n",
    "- Ordinary Least Squared\n",
    "- AUC/ROC"
   ]
  },
  {
   "cell_type": "markdown",
   "metadata": {},
   "source": [
    "## Finally, Interpret and conclusion\n",
    "And finally, we do make of our analysis? Explain relationships found assumptions made, and support your interpretaiton of the results with evidence from your analysis. If there are issues, assumptions or areas that need further exploration, state those here, as well."
   ]
  },
  {
   "cell_type": "markdown",
   "metadata": {},
   "source": [
    "# Implementation\n",
    "## [Intro](https://github.com/summerela/python_data_analysis/blob/master/pandas_basics/notebooks/Intro%20to%20Pandas.ipynb)"
   ]
  },
  {
   "cell_type": "code",
   "execution_count": null,
   "metadata": {},
   "outputs": [],
   "source": [
    "# import package\n",
    "import pa"
   ]
  }
 ],
 "metadata": {
  "kernelspec": {
   "display_name": "Python 3",
   "language": "python",
   "name": "python3"
  },
  "language_info": {
   "codemirror_mode": {
    "name": "ipython",
    "version": 3
   },
   "file_extension": ".py",
   "mimetype": "text/x-python",
   "name": "python",
   "nbconvert_exporter": "python",
   "pygments_lexer": "ipython3",
   "version": "3.7.3"
  }
 },
 "nbformat": 4,
 "nbformat_minor": 2
}
