{
 "cells": [
  {
   "cell_type": "markdown",
   "metadata": {},
   "source": [
    "## Overview"
   ]
  },
  {
   "cell_type": "markdown",
   "metadata": {},
   "source": [
    "### First, Locate data: Kaggle, Scikit Learn Built in Datasets, UCI ML Repository\n",
    "    "
   ]
  },
  {
   "cell_type": "code",
   "execution_count": 3,
   "metadata": {},
   "outputs": [],
   "source": [
    "# Sklearn: https://scikit-learn.org/stable/modules/classes.html#module-sklearn.datasets"
   ]
  },
  {
   "cell_type": "markdown",
   "metadata": {},
   "source": [
    "[Getting Started](https://scikit-learn.org/stable/getting_started.html)\n",
    "\n",
    "[ Markdown cheatsheet]( https://medium.com/ibm-data-science-experience/markdown-for-jupyter-notebooks-cheatsheet-386c05aeebed )\n"
   ]
  },
  {
   "cell_type": "code",
   "execution_count": 6,
   "metadata": {},
   "outputs": [],
   "source": [
    "# scikit-learn is an open-source ML library for un/supervised learning, many tools for model fitting, \n",
    "# data pre-processing, model selection, model evaluation ( train_test_split, cross_validate)\n",
    "# you fit the model to data using fit method.\n",
    "# ex: from sklearn.ensemble import RandomForestClassifier\n",
    "#    clf = RandomForestClassifier(random_state=0)\n",
    "#    (set x and y) // both are [] // x = samples, y = target values\n",
    "#    clf.fit(X, y)\n",
    "# USE the model: clf.predict([x,y])"
   ]
  },
  {
   "cell_type": "markdown",
   "metadata": {},
   "source": [
    "### Types of Learning\n",
    "- Supervised\n",
    "    - classification \n",
    "    - regression ( desired output is >1 continous variables)\n",
    "- Unsupervised\n",
    "    - clustering (groups of similar examples within the data)\n",
    "    - density estimation (distribution of data)"
   ]
  },
  {
   "cell_type": "markdown",
   "metadata": {},
   "source": [
    "### [Scikit-learn has standard datasets](https://scikit-learn.org/stable/tutorial/basic/tutorial.html#machine-learning-the-problem-setting)\n",
    "- iris and digits for classification\n",
    "- boston hhouse prices for regression\n",
    "> $ python\n",
    "> from sklearn import datasets\n",
    "> iris = datasets.load_iris()\n",
    "> digits = datasets.load_digits()"
   ]
  },
  {
   "cell_type": "code",
   "execution_count": null,
   "metadata": {},
   "outputs": [],
   "source": []
  }
 ],
 "metadata": {
  "kernelspec": {
   "display_name": "Python 3",
   "language": "python",
   "name": "python3"
  },
  "language_info": {
   "codemirror_mode": {
    "name": "ipython",
    "version": 3
   },
   "file_extension": ".py",
   "mimetype": "text/x-python",
   "name": "python",
   "nbconvert_exporter": "python",
   "pygments_lexer": "ipython3",
   "version": "3.7.3"
  }
 },
 "nbformat": 4,
 "nbformat_minor": 2
}
