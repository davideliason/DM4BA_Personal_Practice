{
 "cells": [
  {
   "cell_type": "markdown",
   "metadata": {},
   "source": [
    "# [Overview](https://github.com/summerela/python_data_analysis/blob/master/pandas_basics/notebooks/Data%20Analysis%20Overview.ipynb)\n",
    "\n",
    "#Menu"
   ]
  },
  {
   "cell_type": "markdown",
   "metadata": {},
   "source": [
    "## First, Locate data: Kaggle, Scikit Learn Built in Datasets, UCI ML Repository\n",
    "    "
   ]
  },
  {
   "cell_type": "markdown",
   "metadata": {},
   "source": [
    "[Sklearn](https://scikit-learn.org/stable/modules/classes.html#module-sklearn.datasets)"
   ]
  },
  {
   "cell_type": "markdown",
   "metadata": {},
   "source": [
    "[Getting Started](https://scikit-learn.org/stable/getting_started.html)\n",
    "\n",
    "[ Markdown cheatsheet]( https://medium.com/ibm-data-science-experience/markdown-for-jupyter-notebooks-cheatsheet-386c05aeebed )\n"
   ]
  },
  {
   "cell_type": "code",
   "execution_count": 6,
   "metadata": {},
   "outputs": [],
   "source": [
    "# scikit-learn is an open-source ML library for un/supervised learning, many tools for model fitting, \n",
    "# data pre-processing, model selection, model evaluation ( train_test_split, cross_validate)\n",
    "# you fit the model to data using fit method.\n",
    "# ex: from sklearn.ensemble import RandomForestClassifier\n",
    "#    clf = RandomForestClassifier(random_state=0)\n",
    "#    (set x and y) // both are [] // x = samples, y = target values\n",
    "#    clf.fit(X, y)\n",
    "# USE the model: clf.predict([x,y])"
   ]
  },
  {
   "cell_type": "markdown",
   "metadata": {},
   "source": [
    "### Types of Learning\n",
    "- **Supervised**\n",
    "    - classification \n",
    "    - regression ( desired output is >1 continous variables)\n",
    "- **Unsupervised**\n",
    "    - clustering (groups of similar examples within the data)\n",
    "    - density estimation (distribution of data)"
   ]
  },
  {
   "cell_type": "markdown",
   "metadata": {},
   "source": [
    "### [Scikit-learn has standard datasets](https://scikit-learn.org/stable/tutorial/basic/tutorial.html#machine-learning-the-problem-setting)\n",
    "- iris and digits for classification\n",
    "- boston hhouse prices for regression\n",
    "> $ python\n",
    "> from sklearn import datasets\n",
    "> iris = datasets.load_iris()\n",
    "> digits = datasets.load_digits()"
   ]
  },
  {
   "cell_type": "markdown",
   "metadata": {},
   "source": [
    "### Working with dataset\n",
    "- Load a dataset\n",
    "- fit an **estimator** on the data so you can **predict** unseen samples\n",
    "- an example of an estimator is svm (support vector classification) which has two arguments\n",
    "    - the estimator is first fitted to the model (it has to learn from the model, by passing training set to fit method)\n",
    "    - then we can predict using that trained model (predict method)\n",
    "\n"
   ]
  },
  {
   "cell_type": "markdown",
   "metadata": {},
   "source": [
    "[Kaggle](https://www.kaggle.com/c/titanic)\n",
    "- given 2 datasets: train.csv and test.csv\n",
    "    - train.csv shows whether passenger survived: \"ground truth\"\n",
    "    - test.csv doesn't include this ground truth info\n"
   ]
  },
  {
   "cell_type": "markdown",
   "metadata": {},
   "source": [
    "### [UCI Learning Repository](https://archive.ics.uci.edu/ml/index.php)\n",
    "- 488 data sets, searchable\n",
    "- ex: adult.data, adult.names, adult.test\n",
    "- https://archive.ics.uci.edu/ml/machine-learning-databases/adult/adult.data"
   ]
  },
  {
   "cell_type": "markdown",
   "metadata": {},
   "source": [
    "## Second,  [Data Munging: Prep the data](https://github.com/summerela/python_data_analysis/blob/master/pandas_basics/notebooks/Data%20Analysis%20Overview.ipynb)\n",
    "\n",
    "[This page: Data Cleaning](#DataCleaning)\n",
    "\n",
    "[This page: Cleaning Messy Data](#CleaningMessyData)"
   ]
  },
  {
   "cell_type": "markdown",
   "metadata": {},
   "source": [
    "80% of DA/Dta scientist time is spent on making data usable:\n",
    "    \n",
    "- Fixing formatting errors and misspelled words\n",
    "- Restructuring and removing redundancies\n",
    "- Flattening and grouping data\n",
    "- Fixing errors\n",
    "- Locating misssing entries\n",
    "- Normalization\n",
    "- Binning"
   ]
  },
  {
   "cell_type": "markdown",
   "metadata": {},
   "source": [
    "## Third, Exploratory Data Analysis (EDA)\n",
    "- view summary statistics such as mean, quantiles, variance, standard deviation\n",
    "- Determine the type of distribution (normal, bimodal, skwed)\n",
    "- Examine data types (numerical, continuous, caetgorical)\n",
    "- Deal with missing values\n",
    "- Determine potential relationships between your variables\n",
    "- Identify and isolate outliers"
   ]
  },
  {
   "cell_type": "markdown",
   "metadata": {},
   "source": [
    "## Select a Statistical Model\n",
    "- To examine the relationship between continuous variables, **linear regression**\n",
    "- To examine the relationship between binary/discrete variables (cat/dog, yes/no), **logistic regression**"
   ]
  },
  {
   "cell_type": "markdown",
   "metadata": {},
   "source": [
    "## Check model assumptions\n",
    "Each statistical model you choose has mathmatical and logical requirements that we must check exist before we can apply our model. For example, linear regression assumes the that the relationship between independent and dependent variables is linear. We can check this by:\n",
    "\n",
    "- Visualizing our distributions\n",
    "- Check for indepence of variables\n",
    "- Plot relationships, such as in a scatterplot\n",
    "- Each model has it's own assumptions, and you will need to learn the methods for checking those assumptions before continuing with your model of choice."
   ]
  },
  {
   "cell_type": "markdown",
   "metadata": {},
   "source": [
    "## Build the model"
   ]
  },
  {
   "cell_type": "markdown",
   "metadata": {},
   "source": [
    "## Evaluate the model using its particular metrics\n",
    "- Variance\n",
    "- Confidence intervals\n",
    "- Mean Squared Error\n",
    "- Ordinary Least Squared\n",
    "- AUC/ROC"
   ]
  },
  {
   "cell_type": "markdown",
   "metadata": {},
   "source": [
    "## Finally, Interpret and conclusion\n",
    "And finally, we do make of our analysis? Explain relationships found assumptions made, and support your interpretaiton of the results with evidence from your analysis. If there are issues, assumptions or areas that need further exploration, state those here, as well."
   ]
  },
  {
   "cell_type": "markdown",
   "metadata": {},
   "source": [
    "# Implementation\n",
    "## [Intro](https://github.com/summerela/python_data_analysis/blob/master/pandas_basics/notebooks/Intro%20to%20Pandas.ipynb)"
   ]
  },
  {
   "cell_type": "code",
   "execution_count": 9,
   "metadata": {},
   "outputs": [],
   "source": [
    "# import package\n",
    "import pandas as pd"
   ]
  },
  {
   "cell_type": "code",
   "execution_count": 10,
   "metadata": {},
   "outputs": [],
   "source": [
    "# import the data\n",
    "# url to get file from\n",
    "url = \"http://mlr.cs.umass.edu/ml/machine-learning-databases/iris/iris.data\"\n",
    "\n",
    "# read the file into a dataframe\n",
    "iris = pd.read_csv(url,\n",
    "                  header=None)"
   ]
  },
  {
   "cell_type": "code",
   "execution_count": 11,
   "metadata": {},
   "outputs": [
    {
     "data": {
      "text/html": [
       "<div>\n",
       "<style scoped>\n",
       "    .dataframe tbody tr th:only-of-type {\n",
       "        vertical-align: middle;\n",
       "    }\n",
       "\n",
       "    .dataframe tbody tr th {\n",
       "        vertical-align: top;\n",
       "    }\n",
       "\n",
       "    .dataframe thead th {\n",
       "        text-align: right;\n",
       "    }\n",
       "</style>\n",
       "<table border=\"1\" class=\"dataframe\">\n",
       "  <thead>\n",
       "    <tr style=\"text-align: right;\">\n",
       "      <th></th>\n",
       "      <th>0</th>\n",
       "      <th>1</th>\n",
       "      <th>2</th>\n",
       "      <th>3</th>\n",
       "      <th>4</th>\n",
       "    </tr>\n",
       "  </thead>\n",
       "  <tbody>\n",
       "    <tr>\n",
       "      <th>0</th>\n",
       "      <td>5.1</td>\n",
       "      <td>3.5</td>\n",
       "      <td>1.4</td>\n",
       "      <td>0.2</td>\n",
       "      <td>Iris-setosa</td>\n",
       "    </tr>\n",
       "    <tr>\n",
       "      <th>1</th>\n",
       "      <td>4.9</td>\n",
       "      <td>3.0</td>\n",
       "      <td>1.4</td>\n",
       "      <td>0.2</td>\n",
       "      <td>Iris-setosa</td>\n",
       "    </tr>\n",
       "  </tbody>\n",
       "</table>\n",
       "</div>"
      ],
      "text/plain": [
       "     0    1    2    3            4\n",
       "0  5.1  3.5  1.4  0.2  Iris-setosa\n",
       "1  4.9  3.0  1.4  0.2  Iris-setosa"
      ]
     },
     "execution_count": 11,
     "metadata": {},
     "output_type": "execute_result"
    }
   ],
   "source": [
    "# EDA\n",
    "iris.head(2)"
   ]
  },
  {
   "cell_type": "code",
   "execution_count": 12,
   "metadata": {},
   "outputs": [
    {
     "data": {
      "text/html": [
       "<div>\n",
       "<style scoped>\n",
       "    .dataframe tbody tr th:only-of-type {\n",
       "        vertical-align: middle;\n",
       "    }\n",
       "\n",
       "    .dataframe tbody tr th {\n",
       "        vertical-align: top;\n",
       "    }\n",
       "\n",
       "    .dataframe thead th {\n",
       "        text-align: right;\n",
       "    }\n",
       "</style>\n",
       "<table border=\"1\" class=\"dataframe\">\n",
       "  <thead>\n",
       "    <tr style=\"text-align: right;\">\n",
       "      <th></th>\n",
       "      <th>0</th>\n",
       "      <th>1</th>\n",
       "      <th>2</th>\n",
       "      <th>3</th>\n",
       "    </tr>\n",
       "  </thead>\n",
       "  <tbody>\n",
       "    <tr>\n",
       "      <th>count</th>\n",
       "      <td>150.000000</td>\n",
       "      <td>150.000000</td>\n",
       "      <td>150.000000</td>\n",
       "      <td>150.000000</td>\n",
       "    </tr>\n",
       "    <tr>\n",
       "      <th>mean</th>\n",
       "      <td>5.843333</td>\n",
       "      <td>3.054000</td>\n",
       "      <td>3.758667</td>\n",
       "      <td>1.198667</td>\n",
       "    </tr>\n",
       "    <tr>\n",
       "      <th>std</th>\n",
       "      <td>0.828066</td>\n",
       "      <td>0.433594</td>\n",
       "      <td>1.764420</td>\n",
       "      <td>0.763161</td>\n",
       "    </tr>\n",
       "    <tr>\n",
       "      <th>min</th>\n",
       "      <td>4.300000</td>\n",
       "      <td>2.000000</td>\n",
       "      <td>1.000000</td>\n",
       "      <td>0.100000</td>\n",
       "    </tr>\n",
       "    <tr>\n",
       "      <th>25%</th>\n",
       "      <td>5.100000</td>\n",
       "      <td>2.800000</td>\n",
       "      <td>1.600000</td>\n",
       "      <td>0.300000</td>\n",
       "    </tr>\n",
       "    <tr>\n",
       "      <th>50%</th>\n",
       "      <td>5.800000</td>\n",
       "      <td>3.000000</td>\n",
       "      <td>4.350000</td>\n",
       "      <td>1.300000</td>\n",
       "    </tr>\n",
       "    <tr>\n",
       "      <th>75%</th>\n",
       "      <td>6.400000</td>\n",
       "      <td>3.300000</td>\n",
       "      <td>5.100000</td>\n",
       "      <td>1.800000</td>\n",
       "    </tr>\n",
       "    <tr>\n",
       "      <th>max</th>\n",
       "      <td>7.900000</td>\n",
       "      <td>4.400000</td>\n",
       "      <td>6.900000</td>\n",
       "      <td>2.500000</td>\n",
       "    </tr>\n",
       "  </tbody>\n",
       "</table>\n",
       "</div>"
      ],
      "text/plain": [
       "                0           1           2           3\n",
       "count  150.000000  150.000000  150.000000  150.000000\n",
       "mean     5.843333    3.054000    3.758667    1.198667\n",
       "std      0.828066    0.433594    1.764420    0.763161\n",
       "min      4.300000    2.000000    1.000000    0.100000\n",
       "25%      5.100000    2.800000    1.600000    0.300000\n",
       "50%      5.800000    3.000000    4.350000    1.300000\n",
       "75%      6.400000    3.300000    5.100000    1.800000\n",
       "max      7.900000    4.400000    6.900000    2.500000"
      ]
     },
     "execution_count": 12,
     "metadata": {},
     "output_type": "execute_result"
    }
   ],
   "source": [
    "iris.describe()"
   ]
  },
  {
   "cell_type": "code",
   "execution_count": 13,
   "metadata": {},
   "outputs": [],
   "source": [
    "# set columns\n",
    "iris.columns = [\"petal_length\", \"petal_width\", \"sepal_length\", \"sepal_width\", \"class\"]"
   ]
  },
  {
   "cell_type": "code",
   "execution_count": 14,
   "metadata": {},
   "outputs": [
    {
     "data": {
      "text/html": [
       "<div>\n",
       "<style scoped>\n",
       "    .dataframe tbody tr th:only-of-type {\n",
       "        vertical-align: middle;\n",
       "    }\n",
       "\n",
       "    .dataframe tbody tr th {\n",
       "        vertical-align: top;\n",
       "    }\n",
       "\n",
       "    .dataframe thead th {\n",
       "        text-align: right;\n",
       "    }\n",
       "</style>\n",
       "<table border=\"1\" class=\"dataframe\">\n",
       "  <thead>\n",
       "    <tr style=\"text-align: right;\">\n",
       "      <th></th>\n",
       "      <th>petal_length</th>\n",
       "      <th>petal_width</th>\n",
       "      <th>sepal_length</th>\n",
       "      <th>sepal_width</th>\n",
       "      <th>class</th>\n",
       "    </tr>\n",
       "  </thead>\n",
       "  <tbody>\n",
       "    <tr>\n",
       "      <th>0</th>\n",
       "      <td>5.1</td>\n",
       "      <td>3.5</td>\n",
       "      <td>1.4</td>\n",
       "      <td>0.2</td>\n",
       "      <td>Iris-setosa</td>\n",
       "    </tr>\n",
       "  </tbody>\n",
       "</table>\n",
       "</div>"
      ],
      "text/plain": [
       "   petal_length  petal_width  sepal_length  sepal_width        class\n",
       "0           5.1          3.5           1.4          0.2  Iris-setosa"
      ]
     },
     "execution_count": 14,
     "metadata": {},
     "output_type": "execute_result"
    }
   ],
   "source": [
    "iris.head(1)"
   ]
  },
  {
   "cell_type": "code",
   "execution_count": 15,
   "metadata": {},
   "outputs": [
    {
     "data": {
      "text/plain": [
       "petal_length    float64\n",
       "petal_width     float64\n",
       "sepal_length    float64\n",
       "sepal_width     float64\n",
       "class            object\n",
       "dtype: object"
      ]
     },
     "execution_count": 15,
     "metadata": {},
     "output_type": "execute_result"
    }
   ],
   "source": [
    "# view the data type of each column\n",
    "iris.dtypes"
   ]
  },
  {
   "cell_type": "code",
   "execution_count": 19,
   "metadata": {},
   "outputs": [
    {
     "data": {
      "text/plain": [
       "<matplotlib.axes._subplots.AxesSubplot at 0x121817940>"
      ]
     },
     "execution_count": 19,
     "metadata": {},
     "output_type": "execute_result"
    },
    {
     "data": {
      "image/png": "[encoded data removed]",
      "text/plain": [
       "<Figure size 432x288 with 1 Axes>"
      ]
     },
     "metadata": {
      "needs_background": "light"
     },
     "output_type": "display_data"
    }
   ],
   "source": [
    "iris.plot()"
   ]
  },
  {
   "cell_type": "code",
   "execution_count": 18,
   "metadata": {},
   "outputs": [
    {
     "data": {
      "text/plain": [
       "<matplotlib.axes._subplots.AxesSubplot at 0x12176cfd0>"
      ]
     },
     "execution_count": 18,
     "metadata": {},
     "output_type": "execute_result"
    },
    {
     "data": {
      "image/png": "[encoded data removed]",
      "text/plain": [
       "<Figure size 432x288 with 1 Axes>"
      ]
     },
     "metadata": {
      "needs_background": "light"
     },
     "output_type": "display_data"
    }
   ],
   "source": [
    "iris.plot(kind=\"hist\", title=\"12/19/2019\")"
   ]
  },
  {
   "cell_type": "code",
   "execution_count": 21,
   "metadata": {},
   "outputs": [],
   "source": [
    "# rename again\n",
    "\n",
    "iris.columns = ['SepalLength', 'SepalWidth', 'PetalLength', 'PetalWidth', 'Class']"
   ]
  },
  {
   "cell_type": "code",
   "execution_count": 22,
   "metadata": {},
   "outputs": [
    {
     "data": {
      "text/html": [
       "<div>\n",
       "<style scoped>\n",
       "    .dataframe tbody tr th:only-of-type {\n",
       "        vertical-align: middle;\n",
       "    }\n",
       "\n",
       "    .dataframe tbody tr th {\n",
       "        vertical-align: top;\n",
       "    }\n",
       "\n",
       "    .dataframe thead th {\n",
       "        text-align: right;\n",
       "    }\n",
       "</style>\n",
       "<table border=\"1\" class=\"dataframe\">\n",
       "  <thead>\n",
       "    <tr style=\"text-align: right;\">\n",
       "      <th></th>\n",
       "      <th>SepalLength</th>\n",
       "      <th>SepalWidth</th>\n",
       "      <th>PetalLength</th>\n",
       "      <th>PetalWidth</th>\n",
       "      <th>Class</th>\n",
       "    </tr>\n",
       "  </thead>\n",
       "  <tbody>\n",
       "    <tr>\n",
       "      <th>0</th>\n",
       "      <td>5.1</td>\n",
       "      <td>3.5</td>\n",
       "      <td>1.4</td>\n",
       "      <td>0.2</td>\n",
       "      <td>Iris-setosa</td>\n",
       "    </tr>\n",
       "    <tr>\n",
       "      <th>1</th>\n",
       "      <td>4.9</td>\n",
       "      <td>3.0</td>\n",
       "      <td>1.4</td>\n",
       "      <td>0.2</td>\n",
       "      <td>Iris-setosa</td>\n",
       "    </tr>\n",
       "  </tbody>\n",
       "</table>\n",
       "</div>"
      ],
      "text/plain": [
       "   SepalLength  SepalWidth  PetalLength  PetalWidth        Class\n",
       "0          5.1         3.5          1.4         0.2  Iris-setosa\n",
       "1          4.9         3.0          1.4         0.2  Iris-setosa"
      ]
     },
     "execution_count": 22,
     "metadata": {},
     "output_type": "execute_result"
    }
   ],
   "source": [
    "iris.head(2)"
   ]
  },
  {
   "cell_type": "code",
   "execution_count": 27,
   "metadata": {},
   "outputs": [
    {
     "data": {
      "text/html": [
       "<div>\n",
       "<style scoped>\n",
       "    .dataframe tbody tr th:only-of-type {\n",
       "        vertical-align: middle;\n",
       "    }\n",
       "\n",
       "    .dataframe tbody tr th {\n",
       "        vertical-align: top;\n",
       "    }\n",
       "\n",
       "    .dataframe thead th {\n",
       "        text-align: right;\n",
       "    }\n",
       "</style>\n",
       "<table border=\"1\" class=\"dataframe\">\n",
       "  <thead>\n",
       "    <tr style=\"text-align: right;\">\n",
       "      <th></th>\n",
       "      <th>SepalWidth</th>\n",
       "      <th>SepalLength</th>\n",
       "    </tr>\n",
       "  </thead>\n",
       "  <tbody>\n",
       "    <tr>\n",
       "      <th>0</th>\n",
       "      <td>3.5</td>\n",
       "      <td>5.1</td>\n",
       "    </tr>\n",
       "    <tr>\n",
       "      <th>1</th>\n",
       "      <td>3.0</td>\n",
       "      <td>4.9</td>\n",
       "    </tr>\n",
       "  </tbody>\n",
       "</table>\n",
       "</div>"
      ],
      "text/plain": [
       "   SepalWidth  SepalLength\n",
       "0         3.5          5.1\n",
       "1         3.0          4.9"
      ]
     },
     "execution_count": 27,
     "metadata": {},
     "output_type": "execute_result"
    }
   ],
   "source": [
    "# two columns\n",
    "iris[ ['SepalWidth', 'SepalLength'] ] .head(2)"
   ]
  },
  {
   "cell_type": "markdown",
   "metadata": {},
   "source": [
    "### iloc and loc\n",
    "- df.iloc[ row selection>, <column selection ]\n",
    "- df.loc[ row selection>, <column selection]"
   ]
  },
  {
   "cell_type": "code",
   "execution_count": 28,
   "metadata": {},
   "outputs": [
    {
     "data": {
      "text/plain": [
       "SepalLength            5.1\n",
       "SepalWidth             3.5\n",
       "PetalLength            1.4\n",
       "PetalWidth             0.2\n",
       "Class          Iris-setosa\n",
       "Name: 0, dtype: object"
      ]
     },
     "execution_count": 28,
     "metadata": {},
     "output_type": "execute_result"
    }
   ],
   "source": [
    "iris.iloc[0] # first row"
   ]
  },
  {
   "cell_type": "code",
   "execution_count": 29,
   "metadata": {},
   "outputs": [
    {
     "data": {
      "text/html": [
       "<div>\n",
       "<style scoped>\n",
       "    .dataframe tbody tr th:only-of-type {\n",
       "        vertical-align: middle;\n",
       "    }\n",
       "\n",
       "    .dataframe tbody tr th {\n",
       "        vertical-align: top;\n",
       "    }\n",
       "\n",
       "    .dataframe thead th {\n",
       "        text-align: right;\n",
       "    }\n",
       "</style>\n",
       "<table border=\"1\" class=\"dataframe\">\n",
       "  <thead>\n",
       "    <tr style=\"text-align: right;\">\n",
       "      <th></th>\n",
       "      <th>PetalLength</th>\n",
       "      <th>PetalWidth</th>\n",
       "    </tr>\n",
       "  </thead>\n",
       "  <tbody>\n",
       "    <tr>\n",
       "      <th>0</th>\n",
       "      <td>1.4</td>\n",
       "      <td>0.2</td>\n",
       "    </tr>\n",
       "    <tr>\n",
       "      <th>1</th>\n",
       "      <td>1.4</td>\n",
       "      <td>0.2</td>\n",
       "    </tr>\n",
       "    <tr>\n",
       "      <th>2</th>\n",
       "      <td>1.3</td>\n",
       "      <td>0.2</td>\n",
       "    </tr>\n",
       "    <tr>\n",
       "      <th>3</th>\n",
       "      <td>1.5</td>\n",
       "      <td>0.2</td>\n",
       "    </tr>\n",
       "    <tr>\n",
       "      <th>4</th>\n",
       "      <td>1.4</td>\n",
       "      <td>0.2</td>\n",
       "    </tr>\n",
       "  </tbody>\n",
       "</table>\n",
       "</div>"
      ],
      "text/plain": [
       "   PetalLength  PetalWidth\n",
       "0          1.4         0.2\n",
       "1          1.4         0.2\n",
       "2          1.3         0.2\n",
       "3          1.5         0.2\n",
       "4          1.4         0.2"
      ]
     },
     "execution_count": 29,
     "metadata": {},
     "output_type": "execute_result"
    }
   ],
   "source": [
    "# first five rows and third and fourth columns\n",
    "iris.iloc[0:5, 2:4].head()"
   ]
  },
  {
   "cell_type": "markdown",
   "metadata": {},
   "source": [
    "### Set Index"
   ]
  },
  {
   "cell_type": "code",
   "execution_count": 30,
   "metadata": {},
   "outputs": [],
   "source": [
    "### set index\n",
    "iris = iris.set_index(\"Class\")"
   ]
  },
  {
   "cell_type": "code",
   "execution_count": 31,
   "metadata": {},
   "outputs": [
    {
     "data": {
      "text/html": [
       "<div>\n",
       "<style scoped>\n",
       "    .dataframe tbody tr th:only-of-type {\n",
       "        vertical-align: middle;\n",
       "    }\n",
       "\n",
       "    .dataframe tbody tr th {\n",
       "        vertical-align: top;\n",
       "    }\n",
       "\n",
       "    .dataframe thead th {\n",
       "        text-align: right;\n",
       "    }\n",
       "</style>\n",
       "<table border=\"1\" class=\"dataframe\">\n",
       "  <thead>\n",
       "    <tr style=\"text-align: right;\">\n",
       "      <th></th>\n",
       "      <th>SepalLength</th>\n",
       "      <th>SepalWidth</th>\n",
       "      <th>PetalLength</th>\n",
       "      <th>PetalWidth</th>\n",
       "    </tr>\n",
       "    <tr>\n",
       "      <th>Class</th>\n",
       "      <th></th>\n",
       "      <th></th>\n",
       "      <th></th>\n",
       "      <th></th>\n",
       "    </tr>\n",
       "  </thead>\n",
       "  <tbody>\n",
       "    <tr>\n",
       "      <th>Iris-setosa</th>\n",
       "      <td>5.1</td>\n",
       "      <td>3.5</td>\n",
       "      <td>1.4</td>\n",
       "      <td>0.2</td>\n",
       "    </tr>\n",
       "    <tr>\n",
       "      <th>Iris-setosa</th>\n",
       "      <td>4.9</td>\n",
       "      <td>3.0</td>\n",
       "      <td>1.4</td>\n",
       "      <td>0.2</td>\n",
       "    </tr>\n",
       "  </tbody>\n",
       "</table>\n",
       "</div>"
      ],
      "text/plain": [
       "             SepalLength  SepalWidth  PetalLength  PetalWidth\n",
       "Class                                                        \n",
       "Iris-setosa          5.1         3.5          1.4         0.2\n",
       "Iris-setosa          4.9         3.0          1.4         0.2"
      ]
     },
     "execution_count": 31,
     "metadata": {},
     "output_type": "execute_result"
    }
   ],
   "source": [
    "iris.head(2)"
   ]
  },
  {
   "cell_type": "markdown",
   "metadata": {},
   "source": [
    "### Set/Drop new column"
   ]
  },
  {
   "cell_type": "code",
   "execution_count": 32,
   "metadata": {},
   "outputs": [],
   "source": [
    "\n",
    "iris[\"fake_column\"] = \"testing\""
   ]
  },
  {
   "cell_type": "code",
   "execution_count": 33,
   "metadata": {},
   "outputs": [
    {
     "data": {
      "text/html": [
       "<div>\n",
       "<style scoped>\n",
       "    .dataframe tbody tr th:only-of-type {\n",
       "        vertical-align: middle;\n",
       "    }\n",
       "\n",
       "    .dataframe tbody tr th {\n",
       "        vertical-align: top;\n",
       "    }\n",
       "\n",
       "    .dataframe thead th {\n",
       "        text-align: right;\n",
       "    }\n",
       "</style>\n",
       "<table border=\"1\" class=\"dataframe\">\n",
       "  <thead>\n",
       "    <tr style=\"text-align: right;\">\n",
       "      <th></th>\n",
       "      <th>SepalLength</th>\n",
       "      <th>SepalWidth</th>\n",
       "      <th>PetalLength</th>\n",
       "      <th>PetalWidth</th>\n",
       "      <th>fake_column</th>\n",
       "    </tr>\n",
       "    <tr>\n",
       "      <th>Class</th>\n",
       "      <th></th>\n",
       "      <th></th>\n",
       "      <th></th>\n",
       "      <th></th>\n",
       "      <th></th>\n",
       "    </tr>\n",
       "  </thead>\n",
       "  <tbody>\n",
       "    <tr>\n",
       "      <th>Iris-setosa</th>\n",
       "      <td>5.1</td>\n",
       "      <td>3.5</td>\n",
       "      <td>1.4</td>\n",
       "      <td>0.2</td>\n",
       "      <td>testing</td>\n",
       "    </tr>\n",
       "    <tr>\n",
       "      <th>Iris-setosa</th>\n",
       "      <td>4.9</td>\n",
       "      <td>3.0</td>\n",
       "      <td>1.4</td>\n",
       "      <td>0.2</td>\n",
       "      <td>testing</td>\n",
       "    </tr>\n",
       "  </tbody>\n",
       "</table>\n",
       "</div>"
      ],
      "text/plain": [
       "             SepalLength  SepalWidth  PetalLength  PetalWidth fake_column\n",
       "Class                                                                    \n",
       "Iris-setosa          5.1         3.5          1.4         0.2     testing\n",
       "Iris-setosa          4.9         3.0          1.4         0.2     testing"
      ]
     },
     "execution_count": 33,
     "metadata": {},
     "output_type": "execute_result"
    }
   ],
   "source": [
    "iris.head(2)"
   ]
  },
  {
   "cell_type": "code",
   "execution_count": 34,
   "metadata": {},
   "outputs": [],
   "source": [
    "iris = iris.drop(\"fake_column\", axis=1)"
   ]
  },
  {
   "cell_type": "code",
   "execution_count": 35,
   "metadata": {},
   "outputs": [
    {
     "data": {
      "text/html": [
       "<div>\n",
       "<style scoped>\n",
       "    .dataframe tbody tr th:only-of-type {\n",
       "        vertical-align: middle;\n",
       "    }\n",
       "\n",
       "    .dataframe tbody tr th {\n",
       "        vertical-align: top;\n",
       "    }\n",
       "\n",
       "    .dataframe thead th {\n",
       "        text-align: right;\n",
       "    }\n",
       "</style>\n",
       "<table border=\"1\" class=\"dataframe\">\n",
       "  <thead>\n",
       "    <tr style=\"text-align: right;\">\n",
       "      <th></th>\n",
       "      <th>SepalLength</th>\n",
       "      <th>SepalWidth</th>\n",
       "      <th>PetalLength</th>\n",
       "      <th>PetalWidth</th>\n",
       "    </tr>\n",
       "    <tr>\n",
       "      <th>Class</th>\n",
       "      <th></th>\n",
       "      <th></th>\n",
       "      <th></th>\n",
       "      <th></th>\n",
       "    </tr>\n",
       "  </thead>\n",
       "  <tbody>\n",
       "    <tr>\n",
       "      <th>Iris-setosa</th>\n",
       "      <td>5.1</td>\n",
       "      <td>3.5</td>\n",
       "      <td>1.4</td>\n",
       "      <td>0.2</td>\n",
       "    </tr>\n",
       "    <tr>\n",
       "      <th>Iris-setosa</th>\n",
       "      <td>4.9</td>\n",
       "      <td>3.0</td>\n",
       "      <td>1.4</td>\n",
       "      <td>0.2</td>\n",
       "    </tr>\n",
       "  </tbody>\n",
       "</table>\n",
       "</div>"
      ],
      "text/plain": [
       "             SepalLength  SepalWidth  PetalLength  PetalWidth\n",
       "Class                                                        \n",
       "Iris-setosa          5.1         3.5          1.4         0.2\n",
       "Iris-setosa          4.9         3.0          1.4         0.2"
      ]
     },
     "execution_count": 35,
     "metadata": {},
     "output_type": "execute_result"
    }
   ],
   "source": [
    "iris.head(2)"
   ]
  },
  {
   "cell_type": "markdown",
   "metadata": {},
   "source": [
    "## [ Reading and Writing Data With Pandas](https://github.com/summerela/python_data_analysis/blob/master/pandas_basics/notebooks/Reading%20and%20Writing%20Data%20with%20Pandas.ipynb)"
   ]
  },
  {
   "cell_type": "code",
   "execution_count": 36,
   "metadata": {},
   "outputs": [],
   "source": [
    "# Excel, URL, CSV/TSV"
   ]
  },
  {
   "cell_type": "markdown",
   "metadata": {},
   "source": [
    "## [ Filtering/Finding Data](https://github.com/summerela/python_data_analysis/blob/master/pandas_basics/notebooks/Filtering%20and%20Finding%20Data.ipynb)"
   ]
  },
  {
   "cell_type": "code",
   "execution_count": 38,
   "metadata": {},
   "outputs": [],
   "source": [
    "iris = pd.read_csv(url, \n",
    "                   header=None, \n",
    "                   names=['Sepal Length', 'Sepal Width', 'Petal Length', 'Petal Width', 'Class'])"
   ]
  },
  {
   "cell_type": "code",
   "execution_count": 39,
   "metadata": {},
   "outputs": [
    {
     "data": {
      "text/html": [
       "<div>\n",
       "<style scoped>\n",
       "    .dataframe tbody tr th:only-of-type {\n",
       "        vertical-align: middle;\n",
       "    }\n",
       "\n",
       "    .dataframe tbody tr th {\n",
       "        vertical-align: top;\n",
       "    }\n",
       "\n",
       "    .dataframe thead th {\n",
       "        text-align: right;\n",
       "    }\n",
       "</style>\n",
       "<table border=\"1\" class=\"dataframe\">\n",
       "  <thead>\n",
       "    <tr style=\"text-align: right;\">\n",
       "      <th></th>\n",
       "      <th>Sepal Length</th>\n",
       "      <th>Sepal Width</th>\n",
       "      <th>Petal Length</th>\n",
       "      <th>Petal Width</th>\n",
       "      <th>Class</th>\n",
       "    </tr>\n",
       "  </thead>\n",
       "  <tbody>\n",
       "    <tr>\n",
       "      <th>0</th>\n",
       "      <td>5.1</td>\n",
       "      <td>3.5</td>\n",
       "      <td>1.4</td>\n",
       "      <td>0.2</td>\n",
       "      <td>Iris-setosa</td>\n",
       "    </tr>\n",
       "    <tr>\n",
       "      <th>1</th>\n",
       "      <td>4.9</td>\n",
       "      <td>3.0</td>\n",
       "      <td>1.4</td>\n",
       "      <td>0.2</td>\n",
       "      <td>Iris-setosa</td>\n",
       "    </tr>\n",
       "  </tbody>\n",
       "</table>\n",
       "</div>"
      ],
      "text/plain": [
       "   Sepal Length  Sepal Width  Petal Length  Petal Width        Class\n",
       "0           5.1          3.5           1.4          0.2  Iris-setosa\n",
       "1           4.9          3.0           1.4          0.2  Iris-setosa"
      ]
     },
     "execution_count": 39,
     "metadata": {},
     "output_type": "execute_result"
    }
   ],
   "source": [
    "iris.head(2)"
   ]
  },
  {
   "cell_type": "code",
   "execution_count": 40,
   "metadata": {},
   "outputs": [],
   "source": [
    "iris_setosa_df = iris[iris.Class == \"Iris-setosa\"]"
   ]
  },
  {
   "cell_type": "code",
   "execution_count": 42,
   "metadata": {},
   "outputs": [
    {
     "data": {
      "text/plain": [
       "array(['Iris-setosa'], dtype=object)"
      ]
     },
     "execution_count": 42,
     "metadata": {},
     "output_type": "execute_result"
    }
   ],
   "source": [
    "\n",
    "iris_setosa_df[\"Class\"].unique()"
   ]
  },
  {
   "cell_type": "markdown",
   "metadata": {},
   "source": [
    "### Select Rows Based on Two Column Values¶\n"
   ]
  },
  {
   "cell_type": "code",
   "execution_count": 43,
   "metadata": {},
   "outputs": [
    {
     "data": {
      "text/html": [
       "<div>\n",
       "<style scoped>\n",
       "    .dataframe tbody tr th:only-of-type {\n",
       "        vertical-align: middle;\n",
       "    }\n",
       "\n",
       "    .dataframe tbody tr th {\n",
       "        vertical-align: top;\n",
       "    }\n",
       "\n",
       "    .dataframe thead th {\n",
       "        text-align: right;\n",
       "    }\n",
       "</style>\n",
       "<table border=\"1\" class=\"dataframe\">\n",
       "  <thead>\n",
       "    <tr style=\"text-align: right;\">\n",
       "      <th></th>\n",
       "      <th>Sepal Length</th>\n",
       "      <th>Sepal Width</th>\n",
       "      <th>Petal Length</th>\n",
       "      <th>Petal Width</th>\n",
       "      <th>Class</th>\n",
       "    </tr>\n",
       "  </thead>\n",
       "  <tbody>\n",
       "    <tr>\n",
       "      <th>5</th>\n",
       "      <td>5.4</td>\n",
       "      <td>3.9</td>\n",
       "      <td>1.7</td>\n",
       "      <td>0.4</td>\n",
       "      <td>Iris-setosa</td>\n",
       "    </tr>\n",
       "    <tr>\n",
       "      <th>15</th>\n",
       "      <td>5.7</td>\n",
       "      <td>4.4</td>\n",
       "      <td>1.5</td>\n",
       "      <td>0.4</td>\n",
       "      <td>Iris-setosa</td>\n",
       "    </tr>\n",
       "    <tr>\n",
       "      <th>16</th>\n",
       "      <td>5.4</td>\n",
       "      <td>3.9</td>\n",
       "      <td>1.3</td>\n",
       "      <td>0.4</td>\n",
       "      <td>Iris-setosa</td>\n",
       "    </tr>\n",
       "    <tr>\n",
       "      <th>21</th>\n",
       "      <td>5.1</td>\n",
       "      <td>3.7</td>\n",
       "      <td>1.5</td>\n",
       "      <td>0.4</td>\n",
       "      <td>Iris-setosa</td>\n",
       "    </tr>\n",
       "    <tr>\n",
       "      <th>23</th>\n",
       "      <td>5.1</td>\n",
       "      <td>3.3</td>\n",
       "      <td>1.7</td>\n",
       "      <td>0.5</td>\n",
       "      <td>Iris-setosa</td>\n",
       "    </tr>\n",
       "    <tr>\n",
       "      <th>26</th>\n",
       "      <td>5.0</td>\n",
       "      <td>3.4</td>\n",
       "      <td>1.6</td>\n",
       "      <td>0.4</td>\n",
       "      <td>Iris-setosa</td>\n",
       "    </tr>\n",
       "    <tr>\n",
       "      <th>31</th>\n",
       "      <td>5.4</td>\n",
       "      <td>3.4</td>\n",
       "      <td>1.5</td>\n",
       "      <td>0.4</td>\n",
       "      <td>Iris-setosa</td>\n",
       "    </tr>\n",
       "    <tr>\n",
       "      <th>43</th>\n",
       "      <td>5.0</td>\n",
       "      <td>3.5</td>\n",
       "      <td>1.6</td>\n",
       "      <td>0.6</td>\n",
       "      <td>Iris-setosa</td>\n",
       "    </tr>\n",
       "    <tr>\n",
       "      <th>44</th>\n",
       "      <td>5.1</td>\n",
       "      <td>3.8</td>\n",
       "      <td>1.9</td>\n",
       "      <td>0.4</td>\n",
       "      <td>Iris-setosa</td>\n",
       "    </tr>\n",
       "  </tbody>\n",
       "</table>\n",
       "</div>"
      ],
      "text/plain": [
       "    Sepal Length  Sepal Width  Petal Length  Petal Width        Class\n",
       "5            5.4          3.9           1.7          0.4  Iris-setosa\n",
       "15           5.7          4.4           1.5          0.4  Iris-setosa\n",
       "16           5.4          3.9           1.3          0.4  Iris-setosa\n",
       "21           5.1          3.7           1.5          0.4  Iris-setosa\n",
       "23           5.1          3.3           1.7          0.5  Iris-setosa\n",
       "26           5.0          3.4           1.6          0.4  Iris-setosa\n",
       "31           5.4          3.4           1.5          0.4  Iris-setosa\n",
       "43           5.0          3.5           1.6          0.6  Iris-setosa\n",
       "44           5.1          3.8           1.9          0.4  Iris-setosa"
      ]
     },
     "execution_count": 43,
     "metadata": {},
     "output_type": "execute_result"
    }
   ],
   "source": [
    "iris[(iris.Class == \"Iris-setosa\") & (iris[\"Petal Width\"] > .3)] # notice how I dealt with the space in colname"
   ]
  },
  {
   "cell_type": "code",
   "execution_count": 46,
   "metadata": {},
   "outputs": [
    {
     "data": {
      "text/plain": [
       "9"
      ]
     },
     "execution_count": 46,
     "metadata": {},
     "output_type": "execute_result"
    }
   ],
   "source": [
    "# count them\n",
    "len(iris[(iris.Class == \"Iris-setosa\") & (iris[\"Petal Width\"] > .3)])"
   ]
  },
  {
   "cell_type": "markdown",
   "metadata": {},
   "source": [
    "### Use a List and ISIN to select\n"
   ]
  },
  {
   "cell_type": "code",
   "execution_count": 48,
   "metadata": {},
   "outputs": [
    {
     "data": {
      "text/plain": [
       "0    True\n",
       "1    True\n",
       "Name: Class, dtype: bool"
      ]
     },
     "execution_count": 48,
     "metadata": {},
     "output_type": "execute_result"
    }
   ],
   "source": [
    "val_list = [\"Iris-versicolor\", \"Iris-setosa\"]\n",
    "iris.Class.isin(val_list).head(2)"
   ]
  },
  {
   "cell_type": "code",
   "execution_count": 49,
   "metadata": {},
   "outputs": [
    {
     "data": {
      "text/html": [
       "<div>\n",
       "<style scoped>\n",
       "    .dataframe tbody tr th:only-of-type {\n",
       "        vertical-align: middle;\n",
       "    }\n",
       "\n",
       "    .dataframe tbody tr th {\n",
       "        vertical-align: top;\n",
       "    }\n",
       "\n",
       "    .dataframe thead th {\n",
       "        text-align: right;\n",
       "    }\n",
       "</style>\n",
       "<table border=\"1\" class=\"dataframe\">\n",
       "  <thead>\n",
       "    <tr style=\"text-align: right;\">\n",
       "      <th></th>\n",
       "      <th>Sepal Length</th>\n",
       "      <th>Sepal Width</th>\n",
       "      <th>Petal Length</th>\n",
       "      <th>Petal Width</th>\n",
       "      <th>Class</th>\n",
       "    </tr>\n",
       "  </thead>\n",
       "  <tbody>\n",
       "    <tr>\n",
       "      <th>0</th>\n",
       "      <td>5.1</td>\n",
       "      <td>3.5</td>\n",
       "      <td>1.4</td>\n",
       "      <td>0.2</td>\n",
       "      <td>Iris-setosa</td>\n",
       "    </tr>\n",
       "    <tr>\n",
       "      <th>1</th>\n",
       "      <td>4.9</td>\n",
       "      <td>3.0</td>\n",
       "      <td>1.4</td>\n",
       "      <td>0.2</td>\n",
       "      <td>Iris-setosa</td>\n",
       "    </tr>\n",
       "  </tbody>\n",
       "</table>\n",
       "</div>"
      ],
      "text/plain": [
       "   Sepal Length  Sepal Width  Petal Length  Petal Width        Class\n",
       "0           5.1          3.5           1.4          0.2  Iris-setosa\n",
       "1           4.9          3.0           1.4          0.2  Iris-setosa"
      ]
     },
     "execution_count": 49,
     "metadata": {},
     "output_type": "execute_result"
    }
   ],
   "source": [
    "iris[iris.Class.isin(val_list)].head(2)"
   ]
  },
  {
   "cell_type": "markdown",
   "metadata": {},
   "source": [
    "### Now NOT in a list"
   ]
  },
  {
   "cell_type": "code",
   "execution_count": 50,
   "metadata": {},
   "outputs": [
    {
     "data": {
      "text/html": [
       "<div>\n",
       "<style scoped>\n",
       "    .dataframe tbody tr th:only-of-type {\n",
       "        vertical-align: middle;\n",
       "    }\n",
       "\n",
       "    .dataframe tbody tr th {\n",
       "        vertical-align: top;\n",
       "    }\n",
       "\n",
       "    .dataframe thead th {\n",
       "        text-align: right;\n",
       "    }\n",
       "</style>\n",
       "<table border=\"1\" class=\"dataframe\">\n",
       "  <thead>\n",
       "    <tr style=\"text-align: right;\">\n",
       "      <th></th>\n",
       "      <th>Sepal Length</th>\n",
       "      <th>Sepal Width</th>\n",
       "      <th>Petal Length</th>\n",
       "      <th>Petal Width</th>\n",
       "      <th>Class</th>\n",
       "    </tr>\n",
       "  </thead>\n",
       "  <tbody>\n",
       "    <tr>\n",
       "      <th>100</th>\n",
       "      <td>6.3</td>\n",
       "      <td>3.3</td>\n",
       "      <td>6.0</td>\n",
       "      <td>2.5</td>\n",
       "      <td>Iris-virginica</td>\n",
       "    </tr>\n",
       "    <tr>\n",
       "      <th>101</th>\n",
       "      <td>5.8</td>\n",
       "      <td>2.7</td>\n",
       "      <td>5.1</td>\n",
       "      <td>1.9</td>\n",
       "      <td>Iris-virginica</td>\n",
       "    </tr>\n",
       "    <tr>\n",
       "      <th>102</th>\n",
       "      <td>7.1</td>\n",
       "      <td>3.0</td>\n",
       "      <td>5.9</td>\n",
       "      <td>2.1</td>\n",
       "      <td>Iris-virginica</td>\n",
       "    </tr>\n",
       "    <tr>\n",
       "      <th>103</th>\n",
       "      <td>6.3</td>\n",
       "      <td>2.9</td>\n",
       "      <td>5.6</td>\n",
       "      <td>1.8</td>\n",
       "      <td>Iris-virginica</td>\n",
       "    </tr>\n",
       "    <tr>\n",
       "      <th>104</th>\n",
       "      <td>6.5</td>\n",
       "      <td>3.0</td>\n",
       "      <td>5.8</td>\n",
       "      <td>2.2</td>\n",
       "      <td>Iris-virginica</td>\n",
       "    </tr>\n",
       "  </tbody>\n",
       "</table>\n",
       "</div>"
      ],
      "text/plain": [
       "     Sepal Length  Sepal Width  Petal Length  Petal Width           Class\n",
       "100           6.3          3.3           6.0          2.5  Iris-virginica\n",
       "101           5.8          2.7           5.1          1.9  Iris-virginica\n",
       "102           7.1          3.0           5.9          2.1  Iris-virginica\n",
       "103           6.3          2.9           5.6          1.8  Iris-virginica\n",
       "104           6.5          3.0           5.8          2.2  Iris-virginica"
      ]
     },
     "execution_count": 50,
     "metadata": {},
     "output_type": "execute_result"
    }
   ],
   "source": [
    "iris[~iris.Class.isin(val_list)].head()"
   ]
  },
  {
   "cell_type": "markdown",
   "metadata": {},
   "source": [
    "# [ Data Cleaning and Munging]\n",
    "(https://github.com/summerela/python_data_analysis/blob/master/data_munging/Notebooks/Concatenate_Join_Merge.ipynb)\n",
    "\n",
    "<a id=\"DataCleaning\"></a>"
   ]
  },
  {
   "cell_type": "markdown",
   "metadata": {},
   "source": [
    "### Concatenate Data Frames: add to the end of another, or side by side\n",
    "- a great way to add 2 dataframes of the same length\n",
    "\n",
    "**pd.concat**([list of DataFrames], axis=0, join='outer', ignore_index=False)\n",
    "\n",
    "The concat() method takes a list of dataframes and the following arguments:\n",
    "\n",
    "- axis = 0 to join along rows, axis=1 join along columns\n",
    "- join = 'outer', 'left', 'right'\n",
    "- ignore_index = True to keep original row labels\n",
    "\n",
    "### Concat columns ( side by side)\n",
    "pd.concat([df1,df2], axis=1, join=\"outer\")\n",
    "\n",
    "### Concat rows (add to the end)\n",
    "pd.concat([df1,df2], axis=0, join=\"inner\")"
   ]
  },
  {
   "cell_type": "markdown",
   "metadata": {},
   "source": [
    "### [Joins](https://github.com/summerela/python_data_analysis/blob/master/data_munging/Notebooks/Concatenate_Join_Merge.ipynb)"
   ]
  },
  {
   "cell_type": "code",
   "execution_count": null,
   "metadata": {},
   "outputs": [],
   "source": [
    "# inner join is default\n",
    "result1 = pd.merge(df1, df2, on='subject_id', how=\"inner\") \n",
    "# outer join\n",
    "result2 = pd.merge(df1, df2, on='subject_id', how='outer') \n",
    "# right join\n",
    "result3 = pd.merge(df1, df2, on='subject_id', how='right') \n",
    "# left join\n",
    "result = pd.merge(df1, df2, on='subject_id', how=\"left\")"
   ]
  },
  {
   "cell_type": "markdown",
   "metadata": {},
   "source": [
    "# [Grouping Dataframes](https://github.com/summerela/python_data_analysis/blob/master/data_munging/Notebooks/Grouping%20Data%20Frames.ipynb)\n",
    "\n",
    "There is a good description on this link, with diagrams"
   ]
  },
  {
   "cell_type": "code",
   "execution_count": 53,
   "metadata": {},
   "outputs": [],
   "source": [
    "# import iris dataset\n",
    "\n",
    "import pandas as pd\n",
    "\n",
    "# url to get file from\n",
    "url = \"http://mlr.cs.umass.edu/ml/machine-learning-databases/iris/iris.data\"\n",
    "\n",
    "# read the file into a dataframe\n",
    "iris = pd.read_csv(url, \n",
    "                   header=None, \n",
    "                   names=['SepalLength', 'SepalWidth', 'PetalLength', 'PetalWidth', 'Class'])"
   ]
  },
  {
   "cell_type": "code",
   "execution_count": 54,
   "metadata": {},
   "outputs": [
    {
     "data": {
      "text/html": [
       "<div>\n",
       "<style scoped>\n",
       "    .dataframe tbody tr th:only-of-type {\n",
       "        vertical-align: middle;\n",
       "    }\n",
       "\n",
       "    .dataframe tbody tr th {\n",
       "        vertical-align: top;\n",
       "    }\n",
       "\n",
       "    .dataframe thead th {\n",
       "        text-align: right;\n",
       "    }\n",
       "</style>\n",
       "<table border=\"1\" class=\"dataframe\">\n",
       "  <thead>\n",
       "    <tr style=\"text-align: right;\">\n",
       "      <th></th>\n",
       "      <th>SepalLength</th>\n",
       "      <th>SepalWidth</th>\n",
       "      <th>PetalLength</th>\n",
       "      <th>PetalWidth</th>\n",
       "      <th>Class</th>\n",
       "    </tr>\n",
       "  </thead>\n",
       "  <tbody>\n",
       "    <tr>\n",
       "      <th>0</th>\n",
       "      <td>5.1</td>\n",
       "      <td>3.5</td>\n",
       "      <td>1.4</td>\n",
       "      <td>0.2</td>\n",
       "      <td>Iris-setosa</td>\n",
       "    </tr>\n",
       "  </tbody>\n",
       "</table>\n",
       "</div>"
      ],
      "text/plain": [
       "   SepalLength  SepalWidth  PetalLength  PetalWidth        Class\n",
       "0          5.1         3.5          1.4         0.2  Iris-setosa"
      ]
     },
     "execution_count": 54,
     "metadata": {},
     "output_type": "execute_result"
    }
   ],
   "source": [
    "iris.head(1)"
   ]
  },
  {
   "cell_type": "code",
   "execution_count": 55,
   "metadata": {},
   "outputs": [],
   "source": [
    "# GROUP DATA: find average petal width for iris-setosa\n",
    "iris_classes = iris.groupby(\"Class\")"
   ]
  },
  {
   "cell_type": "code",
   "execution_count": 58,
   "metadata": {},
   "outputs": [
    {
     "data": {
      "text/plain": [
       "<pandas.core.groupby.generic.DataFrameGroupBy object at 0x121c274e0>"
      ]
     },
     "execution_count": 58,
     "metadata": {},
     "output_type": "execute_result"
    }
   ],
   "source": [
    "iris_classes  # groupby object"
   ]
  },
  {
   "cell_type": "code",
   "execution_count": 59,
   "metadata": {},
   "outputs": [
    {
     "data": {
      "text/plain": [
       "[('Iris-setosa',\n",
       "      SepalLength  SepalWidth  PetalLength  PetalWidth        Class\n",
       "  0           5.1         3.5          1.4         0.2  Iris-setosa\n",
       "  1           4.9         3.0          1.4         0.2  Iris-setosa\n",
       "  2           4.7         3.2          1.3         0.2  Iris-setosa\n",
       "  3           4.6         3.1          1.5         0.2  Iris-setosa\n",
       "  4           5.0         3.6          1.4         0.2  Iris-setosa\n",
       "  5           5.4         3.9          1.7         0.4  Iris-setosa\n",
       "  6           4.6         3.4          1.4         0.3  Iris-setosa\n",
       "  7           5.0         3.4          1.5         0.2  Iris-setosa\n",
       "  8           4.4         2.9          1.4         0.2  Iris-setosa\n",
       "  9           4.9         3.1          1.5         0.1  Iris-setosa\n",
       "  10          5.4         3.7          1.5         0.2  Iris-setosa\n",
       "  11          4.8         3.4          1.6         0.2  Iris-setosa\n",
       "  12          4.8         3.0          1.4         0.1  Iris-setosa\n",
       "  13          4.3         3.0          1.1         0.1  Iris-setosa\n",
       "  14          5.8         4.0          1.2         0.2  Iris-setosa\n",
       "  15          5.7         4.4          1.5         0.4  Iris-setosa\n",
       "  16          5.4         3.9          1.3         0.4  Iris-setosa\n",
       "  17          5.1         3.5          1.4         0.3  Iris-setosa\n",
       "  18          5.7         3.8          1.7         0.3  Iris-setosa\n",
       "  19          5.1         3.8          1.5         0.3  Iris-setosa\n",
       "  20          5.4         3.4          1.7         0.2  Iris-setosa\n",
       "  21          5.1         3.7          1.5         0.4  Iris-setosa\n",
       "  22          4.6         3.6          1.0         0.2  Iris-setosa\n",
       "  23          5.1         3.3          1.7         0.5  Iris-setosa\n",
       "  24          4.8         3.4          1.9         0.2  Iris-setosa\n",
       "  25          5.0         3.0          1.6         0.2  Iris-setosa\n",
       "  26          5.0         3.4          1.6         0.4  Iris-setosa\n",
       "  27          5.2         3.5          1.5         0.2  Iris-setosa\n",
       "  28          5.2         3.4          1.4         0.2  Iris-setosa\n",
       "  29          4.7         3.2          1.6         0.2  Iris-setosa\n",
       "  30          4.8         3.1          1.6         0.2  Iris-setosa\n",
       "  31          5.4         3.4          1.5         0.4  Iris-setosa\n",
       "  32          5.2         4.1          1.5         0.1  Iris-setosa\n",
       "  33          5.5         4.2          1.4         0.2  Iris-setosa\n",
       "  34          4.9         3.1          1.5         0.1  Iris-setosa\n",
       "  35          5.0         3.2          1.2         0.2  Iris-setosa\n",
       "  36          5.5         3.5          1.3         0.2  Iris-setosa\n",
       "  37          4.9         3.1          1.5         0.1  Iris-setosa\n",
       "  38          4.4         3.0          1.3         0.2  Iris-setosa\n",
       "  39          5.1         3.4          1.5         0.2  Iris-setosa\n",
       "  40          5.0         3.5          1.3         0.3  Iris-setosa\n",
       "  41          4.5         2.3          1.3         0.3  Iris-setosa\n",
       "  42          4.4         3.2          1.3         0.2  Iris-setosa\n",
       "  43          5.0         3.5          1.6         0.6  Iris-setosa\n",
       "  44          5.1         3.8          1.9         0.4  Iris-setosa\n",
       "  45          4.8         3.0          1.4         0.3  Iris-setosa\n",
       "  46          5.1         3.8          1.6         0.2  Iris-setosa\n",
       "  47          4.6         3.2          1.4         0.2  Iris-setosa\n",
       "  48          5.3         3.7          1.5         0.2  Iris-setosa\n",
       "  49          5.0         3.3          1.4         0.2  Iris-setosa),\n",
       " ('Iris-versicolor',\n",
       "      SepalLength  SepalWidth  PetalLength  PetalWidth            Class\n",
       "  50          7.0         3.2          4.7         1.4  Iris-versicolor\n",
       "  51          6.4         3.2          4.5         1.5  Iris-versicolor\n",
       "  52          6.9         3.1          4.9         1.5  Iris-versicolor\n",
       "  53          5.5         2.3          4.0         1.3  Iris-versicolor\n",
       "  54          6.5         2.8          4.6         1.5  Iris-versicolor\n",
       "  55          5.7         2.8          4.5         1.3  Iris-versicolor\n",
       "  56          6.3         3.3          4.7         1.6  Iris-versicolor\n",
       "  57          4.9         2.4          3.3         1.0  Iris-versicolor\n",
       "  58          6.6         2.9          4.6         1.3  Iris-versicolor\n",
       "  59          5.2         2.7          3.9         1.4  Iris-versicolor\n",
       "  60          5.0         2.0          3.5         1.0  Iris-versicolor\n",
       "  61          5.9         3.0          4.2         1.5  Iris-versicolor\n",
       "  62          6.0         2.2          4.0         1.0  Iris-versicolor\n",
       "  63          6.1         2.9          4.7         1.4  Iris-versicolor\n",
       "  64          5.6         2.9          3.6         1.3  Iris-versicolor\n",
       "  65          6.7         3.1          4.4         1.4  Iris-versicolor\n",
       "  66          5.6         3.0          4.5         1.5  Iris-versicolor\n",
       "  67          5.8         2.7          4.1         1.0  Iris-versicolor\n",
       "  68          6.2         2.2          4.5         1.5  Iris-versicolor\n",
       "  69          5.6         2.5          3.9         1.1  Iris-versicolor\n",
       "  70          5.9         3.2          4.8         1.8  Iris-versicolor\n",
       "  71          6.1         2.8          4.0         1.3  Iris-versicolor\n",
       "  72          6.3         2.5          4.9         1.5  Iris-versicolor\n",
       "  73          6.1         2.8          4.7         1.2  Iris-versicolor\n",
       "  74          6.4         2.9          4.3         1.3  Iris-versicolor\n",
       "  75          6.6         3.0          4.4         1.4  Iris-versicolor\n",
       "  76          6.8         2.8          4.8         1.4  Iris-versicolor\n",
       "  77          6.7         3.0          5.0         1.7  Iris-versicolor\n",
       "  78          6.0         2.9          4.5         1.5  Iris-versicolor\n",
       "  79          5.7         2.6          3.5         1.0  Iris-versicolor\n",
       "  80          5.5         2.4          3.8         1.1  Iris-versicolor\n",
       "  81          5.5         2.4          3.7         1.0  Iris-versicolor\n",
       "  82          5.8         2.7          3.9         1.2  Iris-versicolor\n",
       "  83          6.0         2.7          5.1         1.6  Iris-versicolor\n",
       "  84          5.4         3.0          4.5         1.5  Iris-versicolor\n",
       "  85          6.0         3.4          4.5         1.6  Iris-versicolor\n",
       "  86          6.7         3.1          4.7         1.5  Iris-versicolor\n",
       "  87          6.3         2.3          4.4         1.3  Iris-versicolor\n",
       "  88          5.6         3.0          4.1         1.3  Iris-versicolor\n",
       "  89          5.5         2.5          4.0         1.3  Iris-versicolor\n",
       "  90          5.5         2.6          4.4         1.2  Iris-versicolor\n",
       "  91          6.1         3.0          4.6         1.4  Iris-versicolor\n",
       "  92          5.8         2.6          4.0         1.2  Iris-versicolor\n",
       "  93          5.0         2.3          3.3         1.0  Iris-versicolor\n",
       "  94          5.6         2.7          4.2         1.3  Iris-versicolor\n",
       "  95          5.7         3.0          4.2         1.2  Iris-versicolor\n",
       "  96          5.7         2.9          4.2         1.3  Iris-versicolor\n",
       "  97          6.2         2.9          4.3         1.3  Iris-versicolor\n",
       "  98          5.1         2.5          3.0         1.1  Iris-versicolor\n",
       "  99          5.7         2.8          4.1         1.3  Iris-versicolor),\n",
       " ('Iris-virginica',\n",
       "       SepalLength  SepalWidth  PetalLength  PetalWidth           Class\n",
       "  100          6.3         3.3          6.0         2.5  Iris-virginica\n",
       "  101          5.8         2.7          5.1         1.9  Iris-virginica\n",
       "  102          7.1         3.0          5.9         2.1  Iris-virginica\n",
       "  103          6.3         2.9          5.6         1.8  Iris-virginica\n",
       "  104          6.5         3.0          5.8         2.2  Iris-virginica\n",
       "  105          7.6         3.0          6.6         2.1  Iris-virginica\n",
       "  106          4.9         2.5          4.5         1.7  Iris-virginica\n",
       "  107          7.3         2.9          6.3         1.8  Iris-virginica\n",
       "  108          6.7         2.5          5.8         1.8  Iris-virginica\n",
       "  109          7.2         3.6          6.1         2.5  Iris-virginica\n",
       "  110          6.5         3.2          5.1         2.0  Iris-virginica\n",
       "  111          6.4         2.7          5.3         1.9  Iris-virginica\n",
       "  112          6.8         3.0          5.5         2.1  Iris-virginica\n",
       "  113          5.7         2.5          5.0         2.0  Iris-virginica\n",
       "  114          5.8         2.8          5.1         2.4  Iris-virginica\n",
       "  115          6.4         3.2          5.3         2.3  Iris-virginica\n",
       "  116          6.5         3.0          5.5         1.8  Iris-virginica\n",
       "  117          7.7         3.8          6.7         2.2  Iris-virginica\n",
       "  118          7.7         2.6          6.9         2.3  Iris-virginica\n",
       "  119          6.0         2.2          5.0         1.5  Iris-virginica\n",
       "  120          6.9         3.2          5.7         2.3  Iris-virginica\n",
       "  121          5.6         2.8          4.9         2.0  Iris-virginica\n",
       "  122          7.7         2.8          6.7         2.0  Iris-virginica\n",
       "  123          6.3         2.7          4.9         1.8  Iris-virginica\n",
       "  124          6.7         3.3          5.7         2.1  Iris-virginica\n",
       "  125          7.2         3.2          6.0         1.8  Iris-virginica\n",
       "  126          6.2         2.8          4.8         1.8  Iris-virginica\n",
       "  127          6.1         3.0          4.9         1.8  Iris-virginica\n",
       "  128          6.4         2.8          5.6         2.1  Iris-virginica\n",
       "  129          7.2         3.0          5.8         1.6  Iris-virginica\n",
       "  130          7.4         2.8          6.1         1.9  Iris-virginica\n",
       "  131          7.9         3.8          6.4         2.0  Iris-virginica\n",
       "  132          6.4         2.8          5.6         2.2  Iris-virginica\n",
       "  133          6.3         2.8          5.1         1.5  Iris-virginica\n",
       "  134          6.1         2.6          5.6         1.4  Iris-virginica\n",
       "  135          7.7         3.0          6.1         2.3  Iris-virginica\n",
       "  136          6.3         3.4          5.6         2.4  Iris-virginica\n",
       "  137          6.4         3.1          5.5         1.8  Iris-virginica\n",
       "  138          6.0         3.0          4.8         1.8  Iris-virginica\n",
       "  139          6.9         3.1          5.4         2.1  Iris-virginica\n",
       "  140          6.7         3.1          5.6         2.4  Iris-virginica\n",
       "  141          6.9         3.1          5.1         2.3  Iris-virginica\n",
       "  142          5.8         2.7          5.1         1.9  Iris-virginica\n",
       "  143          6.8         3.2          5.9         2.3  Iris-virginica\n",
       "  144          6.7         3.3          5.7         2.5  Iris-virginica\n",
       "  145          6.7         3.0          5.2         2.3  Iris-virginica\n",
       "  146          6.3         2.5          5.0         1.9  Iris-virginica\n",
       "  147          6.5         3.0          5.2         2.0  Iris-virginica\n",
       "  148          6.2         3.4          5.4         2.3  Iris-virginica\n",
       "  149          5.9         3.0          5.1         1.8  Iris-virginica)]"
      ]
     },
     "execution_count": 59,
     "metadata": {},
     "output_type": "execute_result"
    }
   ],
   "source": [
    "#### View Groupby info\n",
    "list(iris_classes)"
   ]
  },
  {
   "cell_type": "code",
   "execution_count": 60,
   "metadata": {},
   "outputs": [
    {
     "data": {
      "text/plain": [
       "{'Iris-setosa': Int64Index([ 0,  1,  2,  3,  4,  5,  6,  7,  8,  9, 10, 11, 12, 13, 14, 15, 16,\n",
       "             17, 18, 19, 20, 21, 22, 23, 24, 25, 26, 27, 28, 29, 30, 31, 32, 33,\n",
       "             34, 35, 36, 37, 38, 39, 40, 41, 42, 43, 44, 45, 46, 47, 48, 49],\n",
       "            dtype='int64'),\n",
       " 'Iris-versicolor': Int64Index([50, 51, 52, 53, 54, 55, 56, 57, 58, 59, 60, 61, 62, 63, 64, 65, 66,\n",
       "             67, 68, 69, 70, 71, 72, 73, 74, 75, 76, 77, 78, 79, 80, 81, 82, 83,\n",
       "             84, 85, 86, 87, 88, 89, 90, 91, 92, 93, 94, 95, 96, 97, 98, 99],\n",
       "            dtype='int64'),\n",
       " 'Iris-virginica': Int64Index([100, 101, 102, 103, 104, 105, 106, 107, 108, 109, 110, 111, 112,\n",
       "             113, 114, 115, 116, 117, 118, 119, 120, 121, 122, 123, 124, 125,\n",
       "             126, 127, 128, 129, 130, 131, 132, 133, 134, 135, 136, 137, 138,\n",
       "             139, 140, 141, 142, 143, 144, 145, 146, 147, 148, 149],\n",
       "            dtype='int64')}"
      ]
     },
     "execution_count": 60,
     "metadata": {},
     "output_type": "execute_result"
    }
   ],
   "source": [
    "# see grouping breakdowns\n",
    "iris_classes.groups"
   ]
  },
  {
   "cell_type": "code",
   "execution_count": 61,
   "metadata": {},
   "outputs": [
    {
     "data": {
      "text/html": [
       "<div>\n",
       "<style scoped>\n",
       "    .dataframe tbody tr th:only-of-type {\n",
       "        vertical-align: middle;\n",
       "    }\n",
       "\n",
       "    .dataframe tbody tr th {\n",
       "        vertical-align: top;\n",
       "    }\n",
       "\n",
       "    .dataframe thead tr th {\n",
       "        text-align: left;\n",
       "    }\n",
       "\n",
       "    .dataframe thead tr:last-of-type th {\n",
       "        text-align: right;\n",
       "    }\n",
       "</style>\n",
       "<table border=\"1\" class=\"dataframe\">\n",
       "  <thead>\n",
       "    <tr>\n",
       "      <th></th>\n",
       "      <th colspan=\"8\" halign=\"left\">SepalLength</th>\n",
       "      <th colspan=\"2\" halign=\"left\">SepalWidth</th>\n",
       "      <th>...</th>\n",
       "      <th colspan=\"2\" halign=\"left\">PetalLength</th>\n",
       "      <th colspan=\"8\" halign=\"left\">PetalWidth</th>\n",
       "    </tr>\n",
       "    <tr>\n",
       "      <th></th>\n",
       "      <th>count</th>\n",
       "      <th>mean</th>\n",
       "      <th>std</th>\n",
       "      <th>min</th>\n",
       "      <th>25%</th>\n",
       "      <th>50%</th>\n",
       "      <th>75%</th>\n",
       "      <th>max</th>\n",
       "      <th>count</th>\n",
       "      <th>mean</th>\n",
       "      <th>...</th>\n",
       "      <th>75%</th>\n",
       "      <th>max</th>\n",
       "      <th>count</th>\n",
       "      <th>mean</th>\n",
       "      <th>std</th>\n",
       "      <th>min</th>\n",
       "      <th>25%</th>\n",
       "      <th>50%</th>\n",
       "      <th>75%</th>\n",
       "      <th>max</th>\n",
       "    </tr>\n",
       "    <tr>\n",
       "      <th>Class</th>\n",
       "      <th></th>\n",
       "      <th></th>\n",
       "      <th></th>\n",
       "      <th></th>\n",
       "      <th></th>\n",
       "      <th></th>\n",
       "      <th></th>\n",
       "      <th></th>\n",
       "      <th></th>\n",
       "      <th></th>\n",
       "      <th></th>\n",
       "      <th></th>\n",
       "      <th></th>\n",
       "      <th></th>\n",
       "      <th></th>\n",
       "      <th></th>\n",
       "      <th></th>\n",
       "      <th></th>\n",
       "      <th></th>\n",
       "      <th></th>\n",
       "      <th></th>\n",
       "    </tr>\n",
       "  </thead>\n",
       "  <tbody>\n",
       "    <tr>\n",
       "      <th>Iris-setosa</th>\n",
       "      <td>50.0</td>\n",
       "      <td>5.006</td>\n",
       "      <td>0.352490</td>\n",
       "      <td>4.3</td>\n",
       "      <td>4.800</td>\n",
       "      <td>5.0</td>\n",
       "      <td>5.2</td>\n",
       "      <td>5.8</td>\n",
       "      <td>50.0</td>\n",
       "      <td>3.418</td>\n",
       "      <td>...</td>\n",
       "      <td>1.575</td>\n",
       "      <td>1.9</td>\n",
       "      <td>50.0</td>\n",
       "      <td>0.244</td>\n",
       "      <td>0.107210</td>\n",
       "      <td>0.1</td>\n",
       "      <td>0.2</td>\n",
       "      <td>0.2</td>\n",
       "      <td>0.3</td>\n",
       "      <td>0.6</td>\n",
       "    </tr>\n",
       "    <tr>\n",
       "      <th>Iris-versicolor</th>\n",
       "      <td>50.0</td>\n",
       "      <td>5.936</td>\n",
       "      <td>0.516171</td>\n",
       "      <td>4.9</td>\n",
       "      <td>5.600</td>\n",
       "      <td>5.9</td>\n",
       "      <td>6.3</td>\n",
       "      <td>7.0</td>\n",
       "      <td>50.0</td>\n",
       "      <td>2.770</td>\n",
       "      <td>...</td>\n",
       "      <td>4.600</td>\n",
       "      <td>5.1</td>\n",
       "      <td>50.0</td>\n",
       "      <td>1.326</td>\n",
       "      <td>0.197753</td>\n",
       "      <td>1.0</td>\n",
       "      <td>1.2</td>\n",
       "      <td>1.3</td>\n",
       "      <td>1.5</td>\n",
       "      <td>1.8</td>\n",
       "    </tr>\n",
       "    <tr>\n",
       "      <th>Iris-virginica</th>\n",
       "      <td>50.0</td>\n",
       "      <td>6.588</td>\n",
       "      <td>0.635880</td>\n",
       "      <td>4.9</td>\n",
       "      <td>6.225</td>\n",
       "      <td>6.5</td>\n",
       "      <td>6.9</td>\n",
       "      <td>7.9</td>\n",
       "      <td>50.0</td>\n",
       "      <td>2.974</td>\n",
       "      <td>...</td>\n",
       "      <td>5.875</td>\n",
       "      <td>6.9</td>\n",
       "      <td>50.0</td>\n",
       "      <td>2.026</td>\n",
       "      <td>0.274650</td>\n",
       "      <td>1.4</td>\n",
       "      <td>1.8</td>\n",
       "      <td>2.0</td>\n",
       "      <td>2.3</td>\n",
       "      <td>2.5</td>\n",
       "    </tr>\n",
       "  </tbody>\n",
       "</table>\n",
       "<p>3 rows × 32 columns</p>\n",
       "</div>"
      ],
      "text/plain": [
       "                SepalLength                                              \\\n",
       "                      count   mean       std  min    25%  50%  75%  max   \n",
       "Class                                                                     \n",
       "Iris-setosa            50.0  5.006  0.352490  4.3  4.800  5.0  5.2  5.8   \n",
       "Iris-versicolor        50.0  5.936  0.516171  4.9  5.600  5.9  6.3  7.0   \n",
       "Iris-virginica         50.0  6.588  0.635880  4.9  6.225  6.5  6.9  7.9   \n",
       "\n",
       "                SepalWidth         ... PetalLength      PetalWidth         \\\n",
       "                     count   mean  ...         75%  max      count   mean   \n",
       "Class                              ...                                      \n",
       "Iris-setosa           50.0  3.418  ...       1.575  1.9       50.0  0.244   \n",
       "Iris-versicolor       50.0  2.770  ...       4.600  5.1       50.0  1.326   \n",
       "Iris-virginica        50.0  2.974  ...       5.875  6.9       50.0  2.026   \n",
       "\n",
       "                                                    \n",
       "                      std  min  25%  50%  75%  max  \n",
       "Class                                               \n",
       "Iris-setosa      0.107210  0.1  0.2  0.2  0.3  0.6  \n",
       "Iris-versicolor  0.197753  1.0  1.2  1.3  1.5  1.8  \n",
       "Iris-virginica   0.274650  1.4  1.8  2.0  2.3  2.5  \n",
       "\n",
       "[3 rows x 32 columns]"
      ]
     },
     "execution_count": 61,
     "metadata": {},
     "output_type": "execute_result"
    }
   ],
   "source": [
    "# summary statistics\n",
    "iris_classes.describe()"
   ]
  },
  {
   "cell_type": "code",
   "execution_count": 62,
   "metadata": {},
   "outputs": [
    {
     "data": {
      "text/plain": [
       "Class\n",
       "Iris-setosa        0.244\n",
       "Iris-versicolor    1.326\n",
       "Iris-virginica     2.026\n",
       "Name: PetalWidth, dtype: float64"
      ]
     },
     "execution_count": 62,
     "metadata": {},
     "output_type": "execute_result"
    }
   ],
   "source": [
    "# now you can get summary stats on particular groups\n",
    "# Apply mean function to PetalWidth column\n",
    "iris_classes['PetalWidth'].mean()"
   ]
  },
  {
   "cell_type": "code",
   "execution_count": 63,
   "metadata": {},
   "outputs": [],
   "source": [
    "# try .max(), size(), count()"
   ]
  },
  {
   "cell_type": "code",
   "execution_count": 64,
   "metadata": {},
   "outputs": [],
   "source": [
    "#### Apply Function to Groupby Groups\n",
    "def get_stats(group):\n",
    "    return {'min': group.min(),\n",
    "            'max': group.max(),\n",
    "            ' mean': group.mean(),\n",
    "            'sum': group.sum()}"
   ]
  },
  {
   "cell_type": "code",
   "execution_count": 65,
   "metadata": {},
   "outputs": [
    {
     "data": {
      "text/plain": [
       "Class\n",
       "Iris-setosa        {'min': [4.3, 2.3, 1.0, 0.1, 'Iris-setosa'], '...\n",
       "Iris-versicolor    {'min': [4.9, 2.0, 3.0, 1.0, 'Iris-versicolor'...\n",
       "Iris-virginica     {'min': [4.9, 2.2, 4.5, 1.4, 'Iris-virginica']...\n",
       "dtype: object"
      ]
     },
     "execution_count": 65,
     "metadata": {},
     "output_type": "execute_result"
    }
   ],
   "source": [
    "iris_classes.apply(get_stats)"
   ]
  },
  {
   "cell_type": "markdown",
   "metadata": {},
   "source": [
    "# [Importance of Cleaning Your Data](https://github.com/summerela/python_data_analysis/blob/master/data_munging/Notebooks/Importance%20of%20Cleaning%20Data.ipynb)"
   ]
  },
  {
   "cell_type": "markdown",
   "metadata": {},
   "source": [
    "## The first part of any analysis\n",
    "\n",
    "### Formatting Errors:\n",
    "Before you can begin to look for more serious issues, we have to clean up our dataset by removing or editing the following types of common messiness:\n",
    "\n",
    "- Spaces and strange characters\n",
    "- Blank rows\n",
    "- Mismatched or missing column names\n",
    "- Encoding issues between operating systems\n",
    "- Duplicated data\n",
    "- Encoding categorical data to numeric\n",
    "\n",
    "### Missing Values\n",
    "Pandas will label missing values as NaN (numpy null) or None and knowing where these values are, why they are there and how many values are missing is critical to your analysis:\n",
    "\n",
    "- Do you have all the data needed for an analysis?\n",
    "- Does the missing data effect the representativenes of your sample?\n",
    "- Should we change to 0 or remove from the dataset? Replace with the mean?\n",
    "- Are these datapoints a measurement of 0, or are they actually missing?"
   ]
  },
  {
   "cell_type": "markdown",
   "metadata": {},
   "source": [
    "#### Outliers\n",
    "Sometimes extreme values can tell you important insights about your dataset, and other times they're just noise and error. You will need to find these outliers and:\n",
    "\n",
    "Determine if outliers are real or due to error\n",
    "- Examine their effect on the distribution of your dataset\n",
    "- Decide if you need to remove certain samples\n",
    "\n",
    "#### Standardization\n",
    "When performing caluclations between different measurements, it's important to make sure everything is on the same scale. For example:\n",
    "\n",
    "- Time\n",
    "- Metric vs imperial measurements\n",
    "- Temperature\n",
    "- Same sized bins\n"
   ]
  },
  {
   "cell_type": "markdown",
   "metadata": {},
   "source": [
    "# [Cleaning Messy Data](https://github.com/summerela/python_data_analysis/blob/master/data_munging/Notebooks/Messy%20Data.ipynb)\n",
    "\n",
    " <a id=\"CleaningMessyData\"></a>"
   ]
  },
  {
   "cell_type": "markdown",
   "metadata": {},
   "source": [
    "We can remove all the strange characters in the column names.\n",
    "We can use a combination of the **replace() function** to get rid of strange characters, along with the **rename() function** to map old column names to new ones."
   ]
  },
  {
   "cell_type": "code",
   "execution_count": 67,
   "metadata": {},
   "outputs": [],
   "source": [
    "# now we will replace all the weird punctuation with blank space\n",
    "# oly_df2.columns = oly_df2.columns.str.replace(\"0\", '').str.replace(\"?\",'').str.replace(\"!\", '')"
   ]
  },
  {
   "cell_type": "code",
   "execution_count": 68,
   "metadata": {},
   "outputs": [],
   "source": [
    "# df3 = oly_df2.rename(columns={'Unnamed': 'Country',\n",
    "#              'Summer': 'Summer', # each column must have an entry, even if you don't want to change it\n",
    "#               oly_df2.columns[2]: 'summer_gold', # if the colname is a number, we have to use the index instead"
   ]
  },
  {
   "cell_type": "code",
   "execution_count": null,
   "metadata": {},
   "outputs": [],
   "source": []
  }
 ],
 "metadata": {
  "kernelspec": {
   "display_name": "Python 3",
   "language": "python",
   "name": "python3"
  },
  "language_info": {
   "codemirror_mode": {
    "name": "ipython",
    "version": 3
   },
   "file_extension": ".py",
   "mimetype": "text/x-python",
   "name": "python",
   "nbconvert_exporter": "python",
   "pygments_lexer": "ipython3",
   "version": "3.7.3"
  }
 },
 "nbformat": 4,
 "nbformat_minor": 2
}
